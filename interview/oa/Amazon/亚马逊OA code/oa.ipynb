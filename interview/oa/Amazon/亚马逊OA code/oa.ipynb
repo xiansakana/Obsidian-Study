{
 "cells": [
  {
   "cell_type": "markdown",
   "id": "270624ce-6885-490a-8ed5-7b913a1c0f34",
   "metadata": {},
   "source": [
    "## buy novel\n"
   ]
  },
  {
   "cell_type": "code",
   "execution_count": 7,
   "id": "78135f9b-d3c9-48a8-b554-1fa3234a555f",
   "metadata": {},
   "outputs": [],
   "source": [
    "import heapq\n",
    "from collections import defaultdict, Counter, deque\n",
    "import math"
   ]
  },
  {
   "cell_type": "code",
   "execution_count": 20,
   "id": "ef4c4a10-6fed-4025-8f01-f87548001b8b",
   "metadata": {},
   "outputs": [
    {
     "name": "stdout",
     "output_type": "stream",
     "text": [
      "[[-1], [1, 2], [-1], [3, 4]]\n"
     ]
    }
   ],
   "source": [
    "def purchaseBooks(volumes):\n",
    "    if len(volumes) == 1:\n",
    "        return [1]\n",
    "    available = set()\n",
    "    max_own = 0\n",
    "    ans = []\n",
    "    \n",
    "    for v in volumes:\n",
    "        curr = []\n",
    "        if v == max_own + 1:\n",
    "            curr.append(v)\n",
    "            max_own += 1\n",
    "            while max_own + 1 in available:\n",
    "                curr.append(max_own + 1)\n",
    "                max_own += 1\n",
    "            ans.append(curr[:])\n",
    "        else:\n",
    "            available.add(v)\n",
    "            ans.append([-1])\n",
    "    return ans\n",
    "\n",
    "print(purchaseBooks([2,1,4,3]))"
   ]
  },
  {
   "cell_type": "markdown",
   "id": "4e3f6f7a-46eb-4ac0-af01-7798379f3eb4",
   "metadata": {},
   "source": [
    "## 卡车运包裹，一些已经装上，最小额外运费"
   ]
  },
  {
   "cell_type": "code",
   "execution_count": 33,
   "id": "afc34e6e-63f2-4146-a916-afa7bfb69ea7",
   "metadata": {},
   "outputs": [
    {
     "name": "stdout",
     "output_type": "stream",
     "text": [
      "0\n"
     ]
    }
   ],
   "source": [
    "def getMinimumCost(parcels, k):\n",
    "    l = len(parcels)\n",
    "    loaded = set(parcels)\n",
    "    curr = 1\n",
    "    cost = 0\n",
    "    while k - l:\n",
    "        while curr in loaded:\n",
    "            curr += 1\n",
    "        cost += curr\n",
    "        curr += 1\n",
    "        k -= 1\n",
    "    return cost\n",
    "\n",
    "print(getMinimumCost([4,5,7,1], 4))"
   ]
  },
  {
   "cell_type": "markdown",
   "id": "5cf74e8e-ec5b-4224-995f-e5a72f3e183c",
   "metadata": {},
   "source": [
    "## similar password\n"
   ]
  },
  {
   "cell_type": "code",
   "execution_count": 38,
   "id": "c8f8320b-e34c-4217-8935-dfb038e5198f",
   "metadata": {},
   "outputs": [
    {
     "name": "stdout",
     "output_type": "stream",
     "text": [
      "True\n"
     ]
    }
   ],
   "source": [
    "\n",
    "def check(new, old):\n",
    "    i, j = 0, 0\n",
    "    while i < len(new) and j < len(old):\n",
    "        if ord(old[j]) == ord(new[i]) or ord(old[j]) == ord(new[i]) + 1:\n",
    "            i += 1\n",
    "            j += 1\n",
    "        else:\n",
    "            i += 1\n",
    "    return j == len(old)\n",
    "    \n",
    "print(check('baacbab', 'abdbc'))\n",
    "  "
   ]
  },
  {
   "cell_type": "markdown",
   "id": "c3fc5136-30b6-4064-bee3-ca190e3166b0",
   "metadata": {},
   "source": [
    "## lexicographically smallest palindrome"
   ]
  },
  {
   "cell_type": "code",
   "execution_count": 54,
   "id": "5bfa185d-3403-420b-ac00-c0237d7cfc2d",
   "metadata": {},
   "outputs": [
    {
     "name": "stdout",
     "output_type": "stream",
     "text": [
      "4\n",
      "abcdzdcba\n"
     ]
    }
   ],
   "source": [
    "def changePalidromoe(palin):\n",
    "    idx = len(palin)// 2\n",
    "    print(idx)\n",
    "    half = list(palin[:idx])\n",
    "    half.sort()\n",
    "    lexi = ''.join(half)\n",
    "    if len(palin) % 2 == 0:\n",
    "        return lexi + lexi[::-1]\n",
    "    else:\n",
    "        return lexi + palin[idx] + lexi[::-1]\n",
    "    \n",
    "print(changePalidromoe('dcbazabcd'))"
   ]
  },
  {
   "cell_type": "code",
   "execution_count": 70,
   "id": "42589dd3-e492-40a6-8419-1b5f24905d81",
   "metadata": {},
   "outputs": [
    {
     "data": {
      "text/plain": [
       "4"
      ]
     },
     "execution_count": 70,
     "metadata": {},
     "output_type": "execute_result"
    }
   ],
   "source": [
    "# 两个substr至少重复k个元素\n",
    "\n",
    "def split(categories, k):\n",
    "    ans = 0\n",
    "    former = {}\n",
    "    latter = Counter(categories)\n",
    "    #print(former, latter)\n",
    "    for i, ch in enumerate(categories):\n",
    "        former[ch] = former.get(ch, 0) + 1\n",
    "        latter[ch] -= 1\n",
    "        if latter[ch] == 0:\n",
    "            del latter[ch]\n",
    "        f_chars = former.keys()\n",
    "        l_chars = latter.keys()\n",
    "        common = len(f_chars) + len(l_chars) - len(set(list(f_chars) +list(l_chars)))\n",
    "        if common > k:\n",
    "            ans += 1\n",
    "    return ans\n",
    "split('adbccdbada', 2)        "
   ]
  },
  {
   "cell_type": "code",
   "execution_count": null,
   "id": "f40739f4-bae2-49b2-9956-89a335aafe80",
   "metadata": {},
   "outputs": [],
   "source": [
    "#min health\n",
    "\n",
    "def minimumhealth(nums, k):\n",
    "  total = sum(nums)\n",
    "  mx = max(nums)\n",
    "  return total - min(mx, k) + 1\n",
    "\n",
    "print(minimumhealth([2, 5, 3, 4], 7))"
   ]
  },
  {
   "cell_type": "code",
   "execution_count": null,
   "id": "0cc7ceaf-1534-4945-8ade-1fae3c5a1a2a",
   "metadata": {},
   "outputs": [],
   "source": [
    "#给一个正整数数组，然后相邻的数可以相加如果arr[i-1] < arr[i]，然后问最后数组里可能的最大的数是多少。注意第一次计算完之后的数组还要进行第二轮计算，直到最后没有更多变化。比如[20, 8, 2, 7] => [20, 8, 9(2+7)] => [20, 17(8+9)]，最后结果是20，再比如[20, 8, 2, 13] => [20, 8, 15(2+13)] => [20, 23(8+15)] => [43]，最后结果为43.\n",
    "def sol(nums):\n",
    "    stack = []\n",
    "    for i in range(len(nums)):\n",
    "        if i == 0 or nums[i - 1] >= nums[i]:\n",
    "            stack.append(nums[i])\n",
    "        else:\n",
    "            while stack and stack[-1] < nums[i]:\n",
    "                prev = stack.pop()\n",
    "                nums[i] += prev\n",
    "            stack.append(nums[i])\n",
    "    return max(stack)\n",
    "print(sol([20,8,2,13]))"
   ]
  },
  {
   "cell_type": "code",
   "execution_count": null,
   "id": "af13ac3b-4fc4-4ece-8556-874b13ae1048",
   "metadata": {},
   "outputs": [],
   "source": [
    "#学生排队，find imbalances\n",
    "\n",
    "def find_imbalances(rank):\n",
    "    count = 0\n",
    "    s = set()\n",
    "    for i in range(len(rank)):\n",
    "        s.clear()\n",
    "        max = rank[i]\n",
    "        min = rank[i]\n",
    "        s.add(rank[i])\n",
    "        for j in range(i+1, len(rank)):\n",
    "            if rank[j] - 1 in s and rank[j] + 1 in s:\n",
    "                pass\n",
    "            elif min > rank[j] and rank[j] + 1 in s:\n",
    "                min = rank[j]\n",
    "            elif max < rank[j] and rank[j] - 1 in s:\n",
    "                max = rank[j]\n",
    "            elif min > rank[j]:\n",
    "                min = rank[j]\n",
    "                count += 1\n",
    "            elif max < rank[j]:\n",
    "                max = rank[j]\n",
    "                count += 1\n",
    "            elif rank[j] - 1 in s or rank[j] + 1 in s:\n",
    "                count += 1\n",
    "            else:\n",
    "                count += 2\n",
    "            s.add(rank[j])\n",
    "            print(count, s)\n",
    "    return count\n",
    "```"
   ]
  },
  {
   "cell_type": "code",
   "execution_count": null,
   "id": "86f346b7-3b99-45bd-b8dc-b21c2d059b6d",
   "metadata": {},
   "outputs": [],
   "source": [
    "#购物网站 cart 链表\n",
    "def sol(head, operations):\n",
    "    tail = head\n",
    "    while tail.next:\n",
    "        tail = tail.next\n",
    "\n",
    "    for op in operations:\n",
    "        common, item = op[0], op[1]\n",
    "        if common == 'PUSH_TAIL':\n",
    "            nxt = ListNode(item.val)\n",
    "            if tail:\n",
    "                tail.next = nxt\n",
    "                tail = next\n",
    "            \n",
    "            if not head:\n",
    "                head = tail\n",
    "        elif common == 'PUSH_HEAD':\n",
    "            nxt = ListNode(item.val)\n",
    "            nxt.next = head\n",
    "            head = nxt\n",
    "        elif common == 'POP_HEAD':\n",
    "            if head:\n",
    "                head = head.next\n",
    "            else:\n",
    "                head = None\n",
    "                tail = None\n",
    "    \n",
    "    return head"
   ]
  },
  {
   "cell_type": "code",
   "execution_count": null,
   "id": "8994c5aa-fc9e-4374-8c50-c7d537f0afaa",
   "metadata": {},
   "outputs": [],
   "source": [
    "# make power nondecreasing\n",
    "def addpower(power):\n",
    "    ans = 0\n",
    "    for i in range(len(power) - 1):\n",
    "        if power[i] > power[i + 1]:\n",
    "            ans += power[i] - power[i + 1]\n",
    "    return ans\n",
    "print(addpower([3,4,1,6,2]))"
   ]
  },
  {
   "cell_type": "code",
   "execution_count": null,
   "id": "459c1262-85e3-482e-8d3b-c51e5284af8e",
   "metadata": {},
   "outputs": [],
   "source": [
    "#对半切str，两个sub至少k个重复\n",
    "def split(categories, k):\n",
    "    ans = 0\n",
    "    former = {}\n",
    "    latter = Counter(categories)\n",
    "    #print(former, latter)\n",
    "    for i, ch in enumerate(categories):\n",
    "        former[ch] = former.get(ch, 0) + 1\n",
    "        latter[ch] -= 1\n",
    "        if latter[ch] == 0:\n",
    "            del latter[ch]\n",
    "        f_chars = former.keys()\n",
    "        l_chars = latter.keys()\n",
    "        common = len(f_chars) + len(l_chars) - len(set(list(f_chars) +list(l_chars)))\n",
    "        if common > k:\n",
    "            ans += 1\n",
    "    return ans\n",
    "split('adbccdbada', 2)"
   ]
  },
  {
   "cell_type": "code",
   "execution_count": null,
   "id": "c4848763-43f2-4a5e-92bb-afa028126e78",
   "metadata": {},
   "outputs": [],
   "source": [
    "#search word&result word\n",
    "def searchword(search, result):\n",
    "    p1, p2 = 0, 0\n",
    "    while p1 < len(search) and p2 < len(result):\n",
    "        # move both if match\n",
    "        if search[p1] == result[p2]:\n",
    "            p1 += 1\n",
    "            p2 += 1\n",
    "        else:\n",
    "            p1 += 1\n",
    "    \n",
    "    return len(result) - p2\n",
    "\n",
    "s = \"Armaxxe\"\n",
    "r = \"Amazon\"\n",
    "print(searchword(s, r))"
   ]
  },
  {
   "cell_type": "code",
   "execution_count": null,
   "id": "b77df618-bc0f-43ea-8552-3e30733876c1",
   "metadata": {},
   "outputs": [],
   "source": [
    "# s1 加多少字符可以变成 s2, armaze\", \"amazon\n",
    "def searchword(s1, s2):\n",
    "    if not s1 and not s2:\n",
    "        return 0\n",
    "    a, b = 0, 0\n",
    "    m, n = len(s1), len(s2)\n",
    "    while a < m and b < n:\n",
    "        if s1[a] == s2[b]:\n",
    "            a += 1\n",
    "            b += 1\n",
    "        else:\n",
    "            a += 1\n",
    "    return n - b"
   ]
  },
  {
   "cell_type": "code",
   "execution_count": null,
   "id": "6d56820e-7176-4714-8ac1-1aeb734b68a2",
   "metadata": {
    "jupyter": {
     "source_hidden": true
    }
   },
   "outputs": [],
   "source": [
    "def findlist(head):\n",
    "    return 0\n",
    "    "
   ]
  }
 ],
 "metadata": {
  "kernelspec": {
   "display_name": "Python 3 (ipykernel)",
   "language": "python",
   "name": "python3"
  },
  "language_info": {
   "codemirror_mode": {
    "name": "ipython",
    "version": 3
   },
   "file_extension": ".py",
   "mimetype": "text/x-python",
   "name": "python",
   "nbconvert_exporter": "python",
   "pygments_lexer": "ipython3",
   "version": "3.10.6"
  }
 },
 "nbformat": 4,
 "nbformat_minor": 5
}
