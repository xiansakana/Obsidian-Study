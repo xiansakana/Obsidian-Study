{
 "cells": [
  {
   "cell_type": "code",
   "execution_count": null,
   "metadata": {},
   "outputs": [],
   "source": [
    "# findEarliestMonth, 输入一列股票值，一分为二，求在哪个index切开前后两部分的平均值相差最少。\n",
    "def findEarliestMonth(stockPrices):\n",
    "    total1 = 0\n",
    "    total2 = sum(stockPrices)\n",
    "    month = 0\n",
    "    min_ = float(\"inf\")\n",
    "    for i in range(len(stockPrices) - 1):\n",
    "        total1 += stockPrices[i]\n",
    "        total2 -= stockPrices[i]\n",
    "        avg_1 = total1 // (i + 1)\n",
    "        avg_2 = total2 // (len(stockPrices) - 1 - i)\n",
    "        diff = abs(avg_1 - avg_2)\n",
    "        if diff < min_:\n",
    "            min_ = diff\n",
    "            month = i + 1\n",
    "\n",
    "    return month\n",
    "# print(findEarliestMonth([1,3,2,3])) #2"
   ]
  },
  {
   "cell_type": "code",
   "execution_count": null,
   "metadata": {},
   "outputs": [],
   "source": [
    "# 可能是prime video, awards, k\n",
    "\n",
    "def classGrouping(levels, maxSpread):\n",
    "    count = 1\n",
    "    levels.sort()\n",
    "    current = levels[0]\n",
    "    idx = 0\n",
    "    for lvl in levels:\n",
    "        if lvl > current + maxSpread:\n",
    "            count += 1\n",
    "            current = lvl\n",
    "\n",
    "    return count"
   ]
  },
  {
   "cell_type": "code",
   "execution_count": null,
   "metadata": {},
   "outputs": [],
   "source": [
    "# https://r24zeng.gitbook.io/amazon-prepare-2021/leetcode/29.-max-final-value-in-array\n",
    "def maxFinalValue(self, array: list[int]) -> int:\n",
    "    array.sort()\n",
    "    array[0] = 1\n",
    "\n",
    "    for i in range(1, len(array)):\n",
    "        if array[i] - array[i-1] > 1:\n",
    "            array[i] = array[i-1] + 1\n",
    "\n",
    "    return array[-1]"
   ]
  },
  {
   "cell_type": "code",
   "execution_count": null,
   "metadata": {},
   "outputs": [],
   "source": [
    "# Given a n array of binary digits, 0 and 1, sort the array so that all zeros\n",
    "# are at one end and all ones are at the other. Which end does not matter.\n",
    "# To sort the array, swap any two adjacent elements. Determine the\n",
    "# minimum number of swaps to sort the array\n",
    "# LC 926\n",
    "# https://leetcode.com/problems/flip-string-to-monotone-increasing/\n",
    "def minFlipsMonoIncr(self, s: str) -> int:\n",
    "    ones = 0\n",
    "    flips = 0\n",
    "    for c in s:\n",
    "        if c == '1':\n",
    "            ones += 1\n",
    "        else:\n",
    "            flips += 1\n",
    "            flips = min(ones, flips)\n",
    "    return flips"
   ]
  },
  {
   "cell_type": "code",
   "execution_count": null,
   "metadata": {},
   "outputs": [],
   "source": [
    "# Given an array of binary digits, 0 and 1, sort the array so that all zeros are at one \n",
    "# end and all ones are at the other. Which end does not matter. To sort the array, \n",
    "# swap any two adjacent elements. Determine the minimum number of swaps to sort the array.\n",
    "\n",
    "# Example\n",
    "# arr = [0, 1, 0, 1]\n",
    "# With 1 move, switching elements 1 and 2 yields [0, 0, 1, 1], a sorted array\n",
    "# the \"dis\" actually mean \"dis0\", \"rev_dis\" is dis1\n",
    "def minMoves(arr):\n",
    "    count1 = 0\n",
    "    dis = 0 \n",
    "    for num in arr:\n",
    "        if num ==1:\n",
    "            count1+=1\n",
    "        if num==0:\n",
    "            dis+=count1\n",
    "    count0 = len(arr) - count1\n",
    "    rev_dis = count1 * count0 - dis\n",
    "    return min(dis, rev_dis)"
   ]
  },
  {
   "cell_type": "code",
   "execution_count": null,
   "metadata": {},
   "outputs": [],
   "source": [
    "# 1. Given an array of only 1 and -1, find a subarray of maximum length\n",
    "# such that the product of all the elements in the subarray is 1.\n",
    "# 循环一遍，记录所以-1的位置。如果有偶数个-1就直接返回真 个ar ray。\n",
    "# 接下来就比较从array头到最后一个-1，和array尾到第一个-1，哪个更长。\n",
    "\n",
    "# https://leetcode.com/discuss/interview-question/1655441/Amazon-or-OA\n",
    "# A question about Amazon student badges but ultimately the problem was given an arr of -1 or 1, return the maximum subarray length with a product of 1.\n",
    "# The array is of size 2 and above and only contains -1 and 1\n",
    "# e.g arr = [-1,-1,1,1,-1], return 4, since index 0 to 3 have the max length with product equal to 1\n",
    "# I tried to use a sliding window but only passed 4/13 cases. there was somthing i had to \n",
    "# fix in the logic for the case arr = [ -1,-1,-1,-1,-1, 1]"
   ]
  },
  {
   "cell_type": "code",
   "execution_count": null,
   "metadata": {},
   "outputs": [],
   "source": [
    "# Find valid discount coupons\n",
    "# // \"static void main\" must be defined in a public class.\n",
    "# public class Main {\n",
    "#     public static void main(String[] args) {\n",
    "      \n",
    "#    List<String> list = List.of(\"abba\", \"abca\", \"abbacbbc\", \"aabb\", \"xaaxybbyzccz\", \"vaas\", \"jay\");\n",
    "#                 System.out.println(findValidDiscountCoupons(list));\n",
    "#     }\n",
    "#          public static List<Integer> findValidDiscountCoupons(List<String> discounts){      \n",
    "#              List<Integer> list = new ArrayList<Integer>();\n",
    "#              for(String discount : discounts){\n",
    "#                 Stack<Character> stack = new Stack<Character>(); //clean the stack for every string           \n",
    "#                  for(int i =0; i < discount.length(); i ++){               \n",
    "#                      if(!stack.isEmpty() && stack.peek() == discount.charAt(i)){\n",
    "#                          stack.pop();\n",
    "#                      } else{\n",
    "#                          stack.push(discount.charAt(i));\n",
    "#                      }\n",
    "#                  }\n",
    "#                  if(stack.isEmpty())\n",
    "#                      list.add(new Integer(1));\n",
    "#                  else\n",
    "#                      list.add(new Integer(0));   \n",
    "#              }\n",
    "#             return list;\n",
    "#          }\n",
    "# }"
   ]
  },
  {
   "cell_type": "code",
   "execution_count": 39,
   "metadata": {},
   "outputs": [
    {
     "name": "stdout",
     "output_type": "stream",
     "text": [
      "16\n"
     ]
    }
   ],
   "source": [
    "# https://leetcode.com/discuss/interview-question/1526418/Count-strength-of-pa%20%20ssword-or-amazon\n",
    "# https://www.1point3acres.com/bbs/thread-823042-1-1.html\n",
    "# https://leetcode.com/discuss/interview-question/1526418/\n",
    "import collections\n",
    "def passwordStrength(string):\n",
    "#     last = {chr(97+i): -1 for i in range(26)}\n",
    "    last = {'a': -1, 'b': -1, 'c': -1, 'd': -1, 'e': -1, 'f': -1, \n",
    "            'g': -1, 'h': -1, 'i': -1, 'j': -1, 'k': -1, 'l': -1, \n",
    "            'm': -1, 'n': -1, 'o': -1, 'p': -1, 'q': -1, 'r': -1, \n",
    "            's': -1, 't': -1, 'u': -1, 'v': -1, 'w': -1, 'x': -1, \n",
    "            'y': -1, 'z': -1}\n",
    "#     print(last)\n",
    "#     s = 'qwertyuiopasdfghjklzxcvbnm'\n",
    "#     last = collections.Counter(s)\n",
    "    ret = 0\n",
    "    for index, char in enumerate(string):\n",
    "        left = index - last[char]\n",
    "        right = len(string) - index\n",
    "        ret += left * right\n",
    "        last[char] = index\n",
    "    return ret\n",
    "\n",
    "print(passwordStrength(\"good\")) #16\n",
    "# # # print(passwordStrength(\"test\")) #19\n",
    "# # # print(passwordStrength(\"abc\")) #10\n",
    "\n",
    "\n",
    "# public long passwordStrength(String s) {\n",
    "#         int n = s.length();\n",
    "#         int[] lastIndex = new int[26];\n",
    "#         Arrays.fill(last, -1);\n",
    "#         int[] dp = new int[n];\n",
    "#         int ans = 0;\n",
    "#         for (int i = 0; i < s.length(); i++) {\n",
    "#             int index = s.charAt(i) -'a';\n",
    "#             if(i == 0)\n",
    "#               dp[i] = 1;\n",
    "#             else{\n",
    "#               dp[i] = dp[i - 1] + i + 1 - (lastIndex[index] + 1);\n",
    "#             }\n",
    "#             ans += dp[i];\n",
    "#             last[index] = i;\n",
    "#         }\n",
    "#         return ans;\n",
    "#     }\n",
    "# dp: number of distinct letters for all substring end at i\n",
    "# lastIndex: last index for each letter\n",
    "# There are total (i + 1) substring at [0, i].\n",
    "# Letter i add at most i + 1 new distinct letter in dp also need to substract previous substring count which already having letter i is lastIndex + 1,\n",
    "# dp = dp[i - 1] + i + 1 - (lastIndex + 1)\n",
    "# Time complexity: O(n) Space complexity: O(1)"
   ]
  },
  {
   "cell_type": "code",
   "execution_count": null,
   "metadata": {},
   "outputs": [],
   "source": [
    "# https://leetcode.com/discuss/interview-question/851513/roblox-new-grad-2021-oa-hackerrank\n",
    "def commonPrefix(string):\n",
    "    # z-array\n",
    "    z = [0] * len(string)\n",
    "    z[0] = len(string)\n",
    "    left, right = 0,0\n",
    "    for i in range(1, len(string)):\n",
    "        if i <= right:\n",
    "            z[i] = min(z[i-left], right-i+1)\n",
    "        while i+z[i] < len(string) and string[z[i]] == string[z[i]+i]:\n",
    "            z[i] += 1\n",
    "        if i+z[i]-1 > right:\n",
    "            left = right\n",
    "            right = i+z[i]-1\n",
    "    return sum(z)\n",
    "\n",
    "# print(commonPrefix('ababaa')) #11\n",
    "# print(commonPrefix('aa')) #3"
   ]
  },
  {
   "cell_type": "code",
   "execution_count": null,
   "metadata": {},
   "outputs": [],
   "source": [
    "def countMaximumTeams(arr, teamSize, maxDiff):\n",
    "    arr.sort()\n",
    "    answer = 0\n",
    "    i = 0\n",
    "    while i <= len(arr) - teamSize:\n",
    "        if arr[i+teamSize-1] - arr[i] <= maxDiff:\n",
    "            answer += 1\n",
    "            i += teamSize\n",
    "        else:\n",
    "            i += 1\n",
    "    return answer\n",
    "\n",
    "# print(countMaximumTeams([3,4,3,1,6,5], 3,2)) #2"
   ]
  },
  {
   "cell_type": "code",
   "execution_count": null,
   "metadata": {},
   "outputs": [],
   "source": [
    "#     findMinHea lth, 一个游戏，输入一个数列代表每关要掉的血􀀀，还有一个值表示一\n",
    "#     个只能用一次的可以挡最高伤害的盾，要求过完全部关后还要留一滴血。求游戏\n",
    "#     开始前需要的最少血。\n",
    "def findMinHealth(power, armor):\n",
    "    return sum（power）-min（max（power），armor）+ 1"
   ]
  },
  {
   "cell_type": "code",
   "execution_count": 49,
   "metadata": {},
   "outputs": [
    {
     "name": "stdout",
     "output_type": "stream",
     "text": [
      "[5, 6, 8, 9]\n"
     ]
    }
   ],
   "source": [
    "# 给了三个list, initinal locations, moveFrom, moveTo, 求从moveFrom 到 moveTo 后， return 各个物品的位置 从小到大\n",
    "# https://leetcode.com/discuss/interview-question/1722904/amazon-oa-intern-us\n",
    "def dataMovement(data,movefrom,moveto):     \n",
    "    s=set(data)     \n",
    "    for origination, destination in zip(movefrom,moveto):         \n",
    "        s.remove(origination)         \n",
    "        s.add(destination)     \n",
    "    return sorted(list(s))\n",
    "\n",
    "print(dataMovement([1,7,6,8], [1,7,2], [2,9,5]))\n",
    "\n",
    "def findDataLocations(locations, moveFrom, moveTo):\n",
    "    for i in range(len(moveFrom)):\n",
    "        locations[locations.index(moveFrom[i])] = moveTo[i]\n",
    "    return sorted(locations)\n",
    "# print(findDataLocations([1,7,6,8], [1,7,2], [2,9,5])) #[5,6,8,9]"
   ]
  },
  {
   "cell_type": "code",
   "execution_count": 9,
   "metadata": {},
   "outputs": [
    {
     "name": "stdout",
     "output_type": "stream",
     "text": [
      "21\n",
      "Counter({'o': 6, 'h': 3, 'e': 3, 'l': 2, 'a': 1, 'b': 1, 'c': 1, 'd': 1, 'f': 1, 'g': 1, 'p': 1, 'q': 1, 'r': 1, 's': 1, 't': 1})\n"
     ]
    }
   ],
   "source": [
    "# 设计手 机键盘的题目，输入一个字符串，根据字母出现频次设计键盘，Python的话可以直接用Counter来做，很简单\n",
    "import collections\n",
    "def minKeyboardClick(string):\n",
    "    string = list(string)\n",
    "    answer = 0\n",
    "    count = list(collections.Counter(string).keys())\n",
    "    for i in range(len(string)):\n",
    "        if 0 <= count.index(string[i]) < 9:\n",
    "            answer += 1\n",
    "        elif 9 <=  count.index(string[i]) < 18:\n",
    "            answer += 2\n",
    "        elif 18 <=  count.index(string[i]) < 27:\n",
    "            answer += 3\n",
    "\n",
    "    return answer\n",
    "\n",
    "\n",
    "def click(string):\n",
    "    count = collections.Counter(string)\n",
    "    res = 0\n",
    "    for i in range(len(count)):\n",
    "        if 0 <= i < 9: res += 1\n",
    "        elif 9 <= i < 18: res += 2\n",
    "        else: res += 3\n",
    "    print(res)\n",
    "        \n",
    "    print(count)\n",
    "click('hhheelloooooabcdefgopqrst')\n",
    "\n",
    "# print(minKeyboardClick('abcdefgabc')) #10\n",
    "# print(minKeyboardClick('hellooooo')) #9\n",
    "# print(minKeyboardClick('hhheelloooooabcdefgopqrst')) #31"
   ]
  },
  {
   "cell_type": "code",
   "execution_count": null,
   "metadata": {},
   "outputs": [],
   "source": [
    "# leetcode 387\n",
    "def firstUniqueCharacter(s):\n",
    "    count = collections.Counter(s)\n",
    "    print\n",
    "    for index, each in enumerate(s):\n",
    "        if count[each] == 1:\n",
    "            return index\n",
    "    return -1\n",
    "\n",
    "# print(firstUniqueCharacter(\"leetcode\")) #0\n",
    "# print(firstUniqueCharacter(\"loveleetcode\")) #2\n",
    "# print(firstUniqueCharacter(\"aabb\")) #-1"
   ]
  },
  {
   "cell_type": "code",
   "execution_count": null,
   "metadata": {},
   "outputs": [],
   "source": [
    "def merge(intervals):\n",
    "    intervals = sorted(intervals, key=lambda x:x[0])\n",
    "    res = [intervals[0]]\n",
    "    for interval in intervals[1:]:\n",
    "        if interval[0] > res[-1][1]:\n",
    "            res.append(interval)\n",
    "        else:\n",
    "            res[-1][1] = max(interval[1], res[-1][1])\n",
    "    return res\n",
    "# print(merge([[6,9],[2,3],[9,11],[1,5],[14,18]]))"
   ]
  },
  {
   "cell_type": "code",
   "execution_count": null,
   "metadata": {},
   "outputs": [],
   "source": [
    "# https://leetcode.com/problems/sum-of-subarray-ranges/\n",
    "def sumOfSubarrayRanges(A):\n",
    "    res = 0\n",
    "    inf = float('inf')\n",
    "    A = [-inf] + A0 + [-inf]\n",
    "    s = []\n",
    "    for i, x in enumerate(A):\n",
    "        while s and A[s[-1]] > x:\n",
    "            j = s.pop()\n",
    "            k = s[-1]\n",
    "            res -= A[j] * (i - j) * (j - k)\n",
    "        s.append(i)\n",
    "    \n",
    "    A = [inf] + A0 + [inf]\n",
    "    s = []\n",
    "    for i, x in enumerate(A):\n",
    "        while s and A[s[-1]] < x:\n",
    "            j = s.pop()\n",
    "            k = s[-1]\n",
    "            res += A[j] * (i - j) * (j - k)\n",
    "        s.append(i)\n",
    "    return res\n",
    "\n",
    "# print(sumOfSubarrayRanges([1,2,3])) #4\n",
    "# print(sumOfSubarrayRanges([1,3,3])) #4\n",
    "# print(sumOfSubarrayRanges([4,-2,-3,4,1])) #59"
   ]
  },
  {
   "cell_type": "code",
   "execution_count": 32,
   "metadata": {},
   "outputs": [
    {
     "name": "stdout",
     "output_type": "stream",
     "text": [
      "6\n"
     ]
    }
   ],
   "source": [
    "# Given a matrix with values 0 (trenches) , 1 (flat) , and 9 (obstacle) \n",
    "# you have to find minimum distance to reach 9 (obstacle). If not possible then return -1.\n",
    "# The demolition robot must start at the top left corner of the matrix, \n",
    "# which is always flat, and can move on block up, down, right, left.\n",
    "def findMinDistance(grid):\n",
    "    if grid[0][0] == 9: return 0\n",
    "    visited = set()\n",
    "    visited.add((0,0))\n",
    "    queue = collections.deque([(0, 0, 0)])\n",
    "    while queue:\n",
    "        for _ in range(len(queue)):\n",
    "            x, y, step = queue.popleft()\n",
    "            if grid[x][y] == 9: return step \n",
    "            for dx, dy in [[1,0], [0,1], [-1,0], [0,-1]]:\n",
    "                new_x = x + dx\n",
    "                new_y = y + dy\n",
    "                if 0 <= new_x < len(grid) and 0 <= new_y < len(grid[0]) and \\\n",
    "                (new_x,new_y) not in visited and grid[new_x][new_y] != 0:\n",
    "                    visited.add((new_x,new_y))\n",
    "                    queue.append((new_x, new_y, step + 1))\n",
    "    return -1\n",
    "\n",
    "grid = [[1,0,0], [1,0,0],[1,0,9],[1,1,1]]\n",
    "print(findMinDistance(grid))"
   ]
  },
  {
   "cell_type": "code",
   "execution_count": null,
   "metadata": {},
   "outputs": [],
   "source": [
    "def sumOfMinimumsInSubarrays(A):\n",
    "    res = 0\n",
    "    stack = []  # non-decreasing\n",
    "    A = [float('-inf')] + A + [float('-inf')]\n",
    "    for i, n in enumerate(A):\n",
    "        while stack and A[stack[-1]] > n:\n",
    "            cur = stack.pop()\n",
    "            res += A[cur] * (i - cur) * (cur - stack[-1])\n",
    "        stack.append(i)\n",
    "    return res % (10 ** 9 + 7)"
   ]
  },
  {
   "cell_type": "code",
   "execution_count": null,
   "metadata": {},
   "outputs": [],
   "source": [
    "def encodeString(s):\n",
    "    answer = [0] * 26\n",
    "    number_of_repetation = 0\n",
    "    i = len(s) - 1\n",
    "    while i >= 0:\n",
    "        number_of_repetation = 0\n",
    "        if s[i] == ')':\n",
    "            go_back = i - 1\n",
    "            multipliy = 1\n",
    "            while go_back >= 0 and s[go_back] != '(':\n",
    "                number_of_repetation += multipliy * int(s[go_back])\n",
    "                go_back -= 1\n",
    "                multipliy *= 10\n",
    "            i = go_back - 1\n",
    "        # in case of '#' then I have to go back two steps to get first digt *10 and the second digit\n",
    "        if s[i] == '#':\n",
    "            expected_number = (int(s[i - 2])) * 10 + int(s[i - 1])\n",
    "            # May there be a ()\n",
    "            if number_of_repetation == 0:\n",
    "                answer[expected_number - 1] += 1\n",
    "            else:\n",
    "                answer[expected_number - 1] += number_of_repetation\n",
    "            i -= 3\n",
    "            continue\n",
    "        if number_of_repetation == 0:\n",
    "            answer[int(s[i]) - 1] += 1\n",
    "        else:\n",
    "            answer[int(s[i]) - 1] += number_of_repetation\n",
    "\n",
    "        i -= 1\n",
    "    return answer\n",
    "\n",
    "# print(encodeString(\"1226#24#\")) #abzx\n",
    "# print(encodeString(\"1(2)23(3)\")) #aabccc\n",
    "# print(encodeString(\"2110#(2)\")) #bajj\n",
    "# print(encodeString(\"23#(2)24#25#26#23#(3)\")) #wwxyzwww"
   ]
  },
  {
   "cell_type": "code",
   "execution_count": null,
   "metadata": {},
   "outputs": [],
   "source": [
    "def dailyTemp(temperatures):\n",
    "    answer = [0] * len(temperatures)\n",
    "    stack = []\n",
    "    for i in range(len(temperatures)):\n",
    "        while stack and stack[-1][0] < temperatures[i]:\n",
    "            temperature, index = stack.pop()\n",
    "            answer[index] = i - index\n",
    "        stack.append([temperatures[i], i])\n",
    "    return answer\n",
    "# print(dailyTemp([73,74,75,71,69,72,76,73])) # [1,1,4,2,1,1,0,0]"
   ]
  },
  {
   "cell_type": "code",
   "execution_count": null,
   "metadata": {},
   "outputs": [],
   "source": [
    "def maxProfit(arr, k):\n",
    "    n = len(arr)\n",
    "    maxProfit = float('-inf')\n",
    "    # Evaluate all n/2 harvesting options (6 slices->3 options, 4 slices->2 options, and so on)\n",
    "    for i in range(n // 2):\n",
    "        sm = 0\n",
    "        for j in range(k):\n",
    "            currIndex = i + j\n",
    "            oppositeIndex = (currIndex + (n // 2)) % n  # adding n//2 gets us the opposite slice's index. %2 for wrapping around array\n",
    "            sm += arr[currIndex] + arr[oppositeIndex]\n",
    "        maxProfit = max(maxProfit, sm)\n",
    "\n",
    "    return maxProfit\n",
    "# print(maxProfit([1, 5, 1, 3, 7, -3], 2)) #16\n",
    "# # print(maxProfit([-6, 3, 6, -3], 1)) #0\n",
    "# # print(maxProfit([3, -5], 1)) #-2"
   ]
  },
  {
   "cell_type": "code",
   "execution_count": null,
   "metadata": {},
   "outputs": [],
   "source": [
    "def min_roof(arr, k):\n",
    "    arr.sort()\n",
    "    min_ = float('inf')\n",
    "    for i in range(len(arr)-k):\n",
    "        min_ = min(min_, arr[i+k-1]-arr[i]+1)\n",
    "    return min_\n",
    "\n",
    "\n",
    "# print(min_roof([12,6,5,2],3)) #5\n",
    "# print(min_roof([12,6,5,2,9],4)) #8"
   ]
  },
  {
   "cell_type": "code",
   "execution_count": null,
   "metadata": {},
   "outputs": [],
   "source": [
    "def weights(arr):\n",
    "    count = collections.Counter(arr)\n",
    "    remove = 0\n",
    "    for key in count:\n",
    "        if count[key] % 3 == 0:\n",
    "            remove += count[key] // 3\n",
    "        elif count[key] % 3 == 2:\n",
    "            remove += count[key] // 3\n",
    "            remove += 1\n",
    "        elif count[key] % 3 == 1:\n",
    "            if count[key] % 2 == 0:\n",
    "                remove += (count[key]-4)//3\n",
    "                remove += 2\n",
    "\n",
    "            return -1\n",
    "    return remove\n",
    "\n",
    "\n",
    "# print(weights([2,2,2,3,3,5,5,5,5,5,5])) #4\n",
    "# # # # # print(weights([1,2,3,4])) #-1\n",
    "# # # # # print(weights([4,4,4,4,4,4,4,4])) #3"
   ]
  },
  {
   "cell_type": "code",
   "execution_count": null,
   "metadata": {},
   "outputs": [],
   "source": [
    "def findMamimumSum(arr, k):\n",
    "    max_ = float('-inf')\n",
    "    for i in range(len(arr)-k+1):\n",
    "        if len(set(arr[i:i+k])) == 3:\n",
    "            max_ = max(max_, sum(arr[i:i+k]))\n",
    "    return max_\n",
    "# print(findMamimumSum([1,2,7,7,4,3,6], 3)) #14"
   ]
  },
  {
   "cell_type": "code",
   "execution_count": null,
   "metadata": {},
   "outputs": [],
   "source": [
    "def find_min_cluster(bootingPower, processingPower, powerMax):\n",
    "    process = [processingPower[0]]\n",
    "    for i in range(1, len(processingPower)):\n",
    "        process.append(process[i-1] + processingPower[i])\n",
    "    k = len(processingPower)\n",
    "    while k > 0:\n",
    "        net_power_consumption = 0\n",
    "        left = 0\n",
    "        right = k - 1\n",
    "        while right < len(processingPower):\n",
    "            if left == 0:\n",
    "                net_power_consumption = max(bootingPower[left:right]) + k * process[right]\n",
    "            else:\n",
    "                net_power_consumption = max(bootingPower[left:right]) + k*(process[right]-process[left])\n",
    "\n",
    "            print(net_power_consumption)\n",
    "\n",
    "            if net_power_consumption <= powerMax:\n",
    "                return k\n",
    "            right += 1\n",
    "            left += 1\n",
    "        k -= 1\n",
    "\n",
    "    return 0\n",
    "# print(find_min_cluster([3,6,1,3,4], [2,1,3,4,5], 25)) #3"
   ]
  },
  {
   "cell_type": "code",
   "execution_count": null,
   "metadata": {},
   "outputs": [],
   "source": [
    "\n",
    "#给一组数组, 删掉k个连续元素, 问剩下最小的和是多少?\n",
    "def deleteK(arr, k):\n",
    "    min_ = float(\"inf\")\n",
    "    left = 0\n",
    "    right = k\n",
    "    sum_ = sum(arr) - sum(arr[left:right])\n",
    "    min_ = sum_\n",
    "    while right < len(arr):\n",
    "        sum_ += arr[left] - arr[right]\n",
    "        min_ = min(min_, sum_)\n",
    "        left += 1\n",
    "        right += 1\n",
    "    return min_\n",
    "# print(deleteK([7,3,6,1], 2)) #7"
   ]
  },
  {
   "cell_type": "code",
   "execution_count": null,
   "metadata": {},
   "outputs": [],
   "source": [
    "#1481. Least Number of Unique Integers after K Removals\n",
    "def findLeastNumOfUniqueInts(arr, k):\n",
    "        from collections import Counter\n",
    "        count = sorted(Counter(arr).items(), key = lambda x:x[1])\n",
    "        print(count)\n",
    "        removed = 0  # number of removed items\n",
    "        for key, val in count:\n",
    "            if k >= val:\n",
    "                k -= val\n",
    "                removed += 1\n",
    "            else:\n",
    "                break\n",
    "        return len(count)-removed  # number of remained elements\n",
    "# print(findLeastNumOfUniqueInts([4,3,1,1,3,3,2], 3))"
   ]
  },
  {
   "cell_type": "code",
   "execution_count": null,
   "metadata": {},
   "outputs": [],
   "source": [
    "#992. Subarrays with K Different Integers\n",
    "def subarraysWithKDistinct(A, K):\n",
    "    return atMostK(A, K) - atMostK(A, K - 1)\n",
    "\n",
    "\n",
    "def atMostK(A, K):\n",
    "    count = collections.Counter()\n",
    "    res = i = 0\n",
    "    for j in range(len(A)):\n",
    "        if count[A[j]] == 0: K -= 1\n",
    "        count[A[j]] += 1\n",
    "        while K < 0:\n",
    "            count[A[i]] -= 1\n",
    "            if count[A[i]] == 0: K += 1\n",
    "            i += 1\n",
    "        res += j - i + 1\n",
    "    return res\n",
    "# print(subarraysWithKDistinct([1,2,1,2,3], 2))"
   ]
  },
  {
   "cell_type": "code",
   "execution_count": null,
   "metadata": {},
   "outputs": [],
   "source": [
    "def decode(string, n):\n",
    "    matrix = [[0]*(len(string)//3) for _ in range(n)]\n",
    "    index = 0\n",
    "    for i in range(n):\n",
    "        for j in range(len(string)//3):\n",
    "            matrix[i][j] = string[index]\n",
    "            index += 1\n",
    "    answer = \"\"\n",
    "    for i in range(len(string)//3):\n",
    "        x = 0\n",
    "        while (x < n and i < len(string)//3):\n",
    "            if (matrix[x][i] == '_'):\n",
    "                answer += ' '\n",
    "            else:\n",
    "                answer += matrix[x][i]\n",
    "            x += 1\n",
    "            i += 1\n",
    "\n",
    "    return answer\n",
    "\n",
    "# print(decode(\"mnesi___ya__k____mime\", 3)) #my name is mike"
   ]
  },
  {
   "cell_type": "code",
   "execution_count": null,
   "metadata": {},
   "outputs": [],
   "source": [
    "def maximumAverageSubtree(self, root):\n",
    "    self.res = 0\n",
    "\n",
    "    def helper(root):\n",
    "        if not root: return [0, 0.0]\n",
    "        n1, s1 = helper(root.left)\n",
    "        n2, s2 = helper(root.right)\n",
    "        n = n1 + n2 + 1\n",
    "        s = s1 + s2 + root.val\n",
    "        self.res = max(self.res, s / n)\n",
    "        return [n, s]\n",
    "\n",
    "    helper(root)\n",
    "    return self.res"
   ]
  },
  {
   "cell_type": "code",
   "execution_count": null,
   "metadata": {},
   "outputs": [],
   "source": [
    "def getMaximumGrey(grid):\n",
    "    row = [0] * len(grid)\n",
    "    col = [0] * len(grid[0])\n",
    "    for i in range(len(grid)):\n",
    "        for j in range(len(grid[i])):\n",
    "            if grid[i][j] == \"1\":\n",
    "                row[i] += 1\n",
    "            else:\n",
    "                row[i] -= 1\n",
    "\n",
    "    for i in range(len(grid[0])):\n",
    "        for j in range(len(grid)):\n",
    "            if grid[j][i] == \"1\":\n",
    "                col[i] += 1\n",
    "            else:\n",
    "                col[i] -= 1\n",
    "\n",
    "    return max(row) + max(col)\n",
    "\n",
    "def getMaximunGery(grid):\n",
    "    prfSumRow = [0]*len(grid )\n",
    "    prfSumCol = [0]*len(groud [0]\n",
    "    for r in range(len(grid)):\n",
    "        for c in range(len(grid [0])):\n",
    "            if grid[r][c]==\"1\": prfSum Row[r]+=1; prfSumCol[c]+=1\n",
    "            else: prfSumRow[r]-=1; prfSumCol[c]-=1\n",
    "    return max(prfSumRow)+max(prfSu mCol)\n",
    "# print(getMaximumGrey([\"101\", \"001\", \"110\"]))"
   ]
  },
  {
   "cell_type": "code",
   "execution_count": null,
   "metadata": {},
   "outputs": [],
   "source": [
    "def minSwaps(s):\n",
    "    start_with_one = start_with_zero = 0\n",
    "    count_one = count_zero = 0\n",
    "\n",
    "    for c in s:\n",
    "        if c == 0:\n",
    "            start_with_zero += count_one\n",
    "            count_zero += 1\n",
    "        else:\n",
    "            start_with_one += count_zero\n",
    "            count_one += 1\n",
    "\n",
    "    return min(start_with_zero, start_with_one)\n",
    "# print(minSwaps([0,1,0,1])) #1\n",
    "# print(minSwaps([1,1,0,1])) #1"
   ]
  },
  {
   "cell_type": "code",
   "execution_count": null,
   "metadata": {},
   "outputs": [],
   "source": [
    "def countBinarySubstrings(s):\n",
    "    groups = [1]\n",
    "    for i in range(1, len(s)):\n",
    "        if s[i-1] != s[i]:\n",
    "            groups.append(1)\n",
    "        else:\n",
    "            groups[-1] += 1\n",
    "    ans = 0\n",
    "    for i in range(1, len(groups)):\n",
    "        ans += min(groups[i], groups[i-1])\n",
    "    return ans\n",
    "\n",
    "\n",
    "# print(countBinarySubstrings(\"00110011\")) #6"
   ]
  },
  {
   "cell_type": "code",
   "execution_count": null,
   "metadata": {},
   "outputs": [],
   "source": [
    "def maxValue(length, updates):\n",
    "    #370 range addition\n",
    "    answer = [0]*length\n",
    "    ans = [0] * length\n",
    "    for start, end, value in updates:\n",
    "        ans[start] += value\n",
    "        end += 1\n",
    "        if end < len(ans):\n",
    "            ans[end] -= value\n",
    "\n",
    "    for i in range(1, len(ans)):\n",
    "        ans[i] += ans[i - 1]\n",
    "\n",
    "    return ans"
   ]
  },
  {
   "cell_type": "code",
   "execution_count": null,
   "metadata": {},
   "outputs": [],
   "source": [
    "def badNumbers(lower, upper, nums):\n",
    "    #missing ranges\n",
    "    result = []\n",
    "    prev = lower - 1\n",
    "    for i in range(len(nums) + 1):\n",
    "        if i < len(nums):\n",
    "            curr = nums[i]\n",
    "        else:\n",
    "            curr = upper + 1\n",
    "        if prev + 1 <= curr - 1:\n",
    "            if prev + 1 == curr - 1:\n",
    "                result.append(str(prev + 1))\n",
    "            else:\n",
    "                result.append(str(prev + 1) + \"->\" + str(curr - 1))\n",
    "        prev = curr\n",
    "    return result"
   ]
  },
  {
   "cell_type": "code",
   "execution_count": null,
   "metadata": {},
   "outputs": [],
   "source": [
    "def simpleCipher(encrypted, k):\n",
    "    k = k % 26\n",
    "    answer = \"\"\n",
    "    for i in range(len(encrypted)):\n",
    "        value = ord(encrypted[i]) - ord(\"A\") - k\n",
    "        if value < 0:\n",
    "            value += 26\n",
    "        value += ord(\"A\")\n",
    "        answer += chr(value)\n",
    "    return answer\n",
    "# print(simpleCipher(\"VTAOG\", 2)) #TRYME"
   ]
  },
  {
   "cell_type": "code",
   "execution_count": null,
   "metadata": {},
   "outputs": [],
   "source": [
    "def validString(string):\n",
    "    stack = []\n",
    "    for i in range(len(string)):\n",
    "        if not stack or stack[-1] != string[i]:\n",
    "            stack.append(string[i])\n",
    "        else:\n",
    "            stack.pop()\n",
    "\n",
    "    return len(stack) == 0\n",
    "# print(validString(\"vv\")) #true\n",
    "# print(validString(\"xbbx\")) #true\n",
    "# print(validString(\"bbccdd\")) #true\n",
    "# print(validString(\"xyffyxdd\")) #true"
   ]
  },
  {
   "cell_type": "code",
   "execution_count": null,
   "metadata": {},
   "outputs": [],
   "source": [
    "def s_t(s, t):\n",
    "    count_s = collections.Counter(s)\n",
    "    count_t = collections.Counter(t)\n",
    "    min_ = float(\"inf\")\n",
    "    for i in range(len(t)):\n",
    "        min_ = min(min_, math.floor(count_s[t[i]] / count_t[t[i]]))\n",
    "    return min_\n",
    "\n",
    "# print(s_t('mononom', \"mon\")) #2"
   ]
  },
  {
   "cell_type": "code",
   "execution_count": null,
   "metadata": {},
   "outputs": [],
   "source": [
    "def findMinimumCharacter(searchWord, resultWord):\n",
    "    p1, p2 = 0, 0\n",
    "    n1, n2 = len(searchWord), len(resultWord)\n",
    "    while p1 < n1 and p2 < n2:\n",
    "        if searchWord[p1] == resultWord[p2]:\n",
    "            p2 += 1\n",
    "        p1 += 1\n",
    "    return n2 - p2\n",
    "# print(findMinimumCharacter(\"armaze\", \"amazon\")) #2"
   ]
  },
  {
   "cell_type": "code",
   "execution_count": null,
   "metadata": {},
   "outputs": [],
   "source": [
    "def maxConsecutiveOnes(nums, k):\n",
    "    left = 0\n",
    "    ans = []\n",
    "    for right in range(len(nums)):\n",
    "        k -= 1 - nums[right]\n",
    "        if k < 0:\n",
    "            k += 1 - nums[left]\n",
    "            left += 1\n",
    "\n",
    "    for i in range(left, right):\n",
    "        if nums[i] == 0:\n",
    "            ans.append(i)\n",
    "    return ans\n",
    "\n",
    "# print(maxConsecutiveOnes([1, 0, 0, 1, 1, 0, 1, 0, 1, 1, 1],2)) #[5, 7]\n",
    "# print(maxConsecutiveOnes([1, 0, 0, 1, 1, 0, 1, 0, 1, 1, 1],1)) #[7]\n",
    "# print(maxConsecutiveOnes([0, 0, 0, 1],4)) #[0, 1 ,2]"
   ]
  },
  {
   "cell_type": "code",
   "execution_count": null,
   "metadata": {},
   "outputs": [],
   "source": [
    "def maximumQuality(packets, channels):\n",
    "    packets.sort()\n",
    "    answer = 0\n",
    "    non_single = len(packets) - channels + 1\n",
    "    answer = sum(packets[:non_single]) / len(packets[:non_single])\n",
    "    for i in range(non_single, len(packets)):\n",
    "        answer += packets[i]\n",
    "\n",
    "    return answer\n",
    "\n",
    "# print(maximumQuality([1,2,3,4,5], 2))\n",
    "# print(maximumQuality([5,2,2,1,5,3], 2))"
   ]
  },
  {
   "cell_type": "code",
   "execution_count": 33,
   "metadata": {},
   "outputs": [],
   "source": [
    "# https://leetcode.com/discuss/interview-question/1730344/Amazon-OA-SDE-1(29th-JAN-2022)\n",
    "# We are given a string containing only zeroes and ones, need to find the number of ways to generate \n",
    "# strings of length 3 which contain zeroes and ones at alternate position .\n",
    "\n",
    "# Eg; string = \"01001\"\n",
    "# possible strings are 010, 010, 101, 101\n",
    "\n",
    "# So there are total 4 ways. return value is of type LONG\n",
    "\n",
    "# o (n) solution to question 1.\n",
    "\n",
    "# For all index count numbers of zero and one to the left and right,\n",
    "\n",
    "# If the character is 1, then for that index, possible answer: number of zeros to the left: number of zeros to the right\n",
    "# same as for character 0, possible answer: number of one to the left * number of one to the right."
   ]
  },
  {
   "cell_type": "code",
   "execution_count": 46,
   "metadata": {},
   "outputs": [
    {
     "name": "stdout",
     "output_type": "stream",
     "text": [
      "[1, 2, 3, 1, 1, 2]\n",
      "10\n",
      "[1, 2, 1]\n",
      "4\n"
     ]
    }
   ],
   "source": [
    "# 第一题就是一个亚马逊用户评分数字list, 找有多少个decreasing sublist， 这里decreasing 一定要是一分一分降的，\n",
    "# 比如4，3就是3个， 4一个，3一个，43一个\n",
    "# 思路\n",
    "# index   0 1 2 3 4 5\n",
    "# 举例    6 5 4 2 2 1\n",
    "# 存到当前连降有多长\n",
    "# dp       1 2 3 1 1 2\n",
    "# 然后找出所有的出现后一个非升序的点\n",
    "# 分别是dp中的index（从0开始） 为 2    3    5\n",
    "# 其对应的dp值分别是             3    1    2\n",
    "# 然后把她们取2的组合数(可重复)加起来就可以了\n",
    "# H(3,2) + H(1,2)  +   H(2,2) = C (4,2) + C(2,2) + C(3,2) = 6 + 1 + 3 = 10\n",
    "# 就是这样的思路\n",
    "def countDecreasingRatings(ratings):\n",
    "    if not ratings: return 0\n",
    "    dp = [1] * len(ratings)\n",
    "    for i in range(1, len(ratings)):\n",
    "        if ratings[i] == ratings[i-1] - 1:\n",
    "            dp[i] = dp[i-1] + 1\n",
    "    print(dp)\n",
    "    res = 0\n",
    "    for num in dp:\n",
    "        res += num\n",
    "    return res\n",
    "print(countDecreasingRatings([6,5,4,2,2,1]))\n",
    "print(countDecreasingRatings([2,1,3]))"
   ]
  },
  {
   "cell_type": "code",
   "execution_count": 40,
   "metadata": {},
   "outputs": [
    {
     "name": "stdout",
     "output_type": "stream",
     "text": [
      "1\n",
      "5\n"
     ]
    }
   ],
   "source": [
    "# A肯定要加在开头才能尽可能多的和后面的Z组成AZ，Z肯定要加在最后才能尽可能多的和前面的A组成AZ。\n",
    "# 所以要比较的就是A+string和string+Z两种情况。\n",
    "# 然后就是数有多少个AZ。从前往后遍历新的string，每遇到一个Z，这个Z就能和前面n个A组成n个AZ，\n",
    "# 所以就是要记录到这个Z为止，总共有多少个A就行了。\n",
    "def maxAZ(string):\n",
    "    add_A = 'A' + string\n",
    "    add_Z = string + 'Z'\n",
    "    count_A = 0\n",
    "    count_Z = 0\n",
    "\n",
    "    temp = 0\n",
    "\n",
    "    for i in range(len(add_A)):\n",
    "        if add_A[i] == 'Z':\n",
    "            count_A += temp\n",
    "        if add_A[i] == \"A\":\n",
    "            temp += 1\n",
    "\n",
    "    temp_ = 0\n",
    "    for i in range(len(add_Z)):\n",
    "        if add_Z[i] == 'Z':\n",
    "            count_Z += temp_\n",
    "        if add_Z[i] == \"A\":\n",
    "            temp_ += 1\n",
    "    return max(count_A, count_Z)\n",
    "print(maxAZ(\"A\")) #1\n",
    "print(maxAZ(\"BAZAZ\")) #5"
   ]
  },
  {
   "cell_type": "code",
   "execution_count": null,
   "metadata": {},
   "outputs": [],
   "source": []
  },
  {
   "cell_type": "code",
   "execution_count": null,
   "metadata": {},
   "outputs": [],
   "source": []
  },
  {
   "cell_type": "code",
   "execution_count": null,
   "metadata": {},
   "outputs": [],
   "source": []
  },
  {
   "cell_type": "code",
   "execution_count": null,
   "metadata": {},
   "outputs": [],
   "source": [
    "def kthFactor(n, k):\n",
    "    divisors, sqrt_n = [], int(n ** 0.5)\n",
    "    for x in range(1, sqrt_n + 1):\n",
    "        if n % x == 0:\n",
    "            k -= 1\n",
    "            divisors.append(x)\n",
    "            if k == 0:\n",
    "                return x\n",
    "    if (sqrt_n * sqrt_n == n):\n",
    "        k += 1\n",
    "\n",
    "    if k <= len(divisors):\n",
    "        return n // divisors[len(divisors) - k]\n",
    "    else:\n",
    "        return 0\n",
    "# print(kthFactor(20,3))\n",
    "# print(kthFactor(20,7))"
   ]
  },
  {
   "cell_type": "code",
   "execution_count": null,
   "metadata": {},
   "outputs": [],
   "source": [
    "def maxSubjectsNumber(needed, answered, q):\n",
    "    still_need = []\n",
    "    for i in range(len(needed)):\n",
    "        still_need.append(needed[i] - answered[i])\n",
    "    print(still_need)\n",
    "    still_need.sort()\n",
    "    count = 0\n",
    "    for i in range(len(still_need)):\n",
    "        if q <= 0:\n",
    "            break\n",
    "        if still_need[i] < 0:\n",
    "            count += 1\n",
    "        else:\n",
    "            if q >= still_need[i]:\n",
    "                q -= still_need[i]\n",
    "                count += 1\n",
    "    return count\n",
    "\n",
    "# print(maxSubjectsNumber([51,52,100], [24,27,0], 100))"
   ]
  },
  {
   "cell_type": "code",
   "execution_count": null,
   "metadata": {},
   "outputs": [],
   "source": [
    "def kOddElements(arr, k):\n",
    "    res = set()\n",
    "    left, right, odd_num = 0, 0, 0\n",
    "    while right < len(arr):\n",
    "        if arr[right] % 2 == 1:\n",
    "            odd_num += 1\n",
    "        while odd_num > k and left < right:\n",
    "            if arr[left] % 2 == 1:\n",
    "                odd_num -= 1\n",
    "            left += 1\n",
    "\n",
    "        for left_start in range(left, right + 1):\n",
    "            res.add(\",\".join(map(str, arr[left_start:right + 1])))\n",
    "\n",
    "        right += 1\n",
    "\n",
    "    return len(res)\n",
    "\n",
    "\n",
    "# print(kOddElements([3,2,3,4], 1)) #7\n",
    "# print(kOddElements([1,3,9,5], 2)) #7\n",
    "# print(kOddElements([3,2,3,2], 1)) #5\n",
    "# print(kOddElements([2, 2, 5, 6, 9, 2, 11, 9, 2, 11, 12], 1)) #18\n",
    "# print(kOddElements([1,2,3,4], 1)) #8"
   ]
  },
  {
   "cell_type": "code",
   "execution_count": null,
   "metadata": {},
   "outputs": [],
   "source": [
    "def getMaxValue(list_):\n",
    "    list_.sort()\n",
    "    list_[0] = 1\n",
    "    for i in range(1, len(list_)):\n",
    "        if list_[i] > list_[i-1]:\n",
    "            list_[i] = list_[i-1]+1\n",
    "    return list_[-1]\n",
    "#\n",
    "# print(getMaxValue([3,1,3,4])) #4\n",
    "# print(getMaxValue([1,3,2,2])) #3\n",
    "# print(getMaxValue([3,2,3,5])) #4"
   ]
  },
  {
   "cell_type": "code",
   "execution_count": null,
   "metadata": {},
   "outputs": [],
   "source": [
    "def getEncryptedNumber(array):\n",
    "    level = array\n",
    "    while len(level) > 2:\n",
    "        temp = []\n",
    "        for i in range(len(level) - 1):\n",
    "            temp.append(int(str(level[i] + level[i + 1])[-1]))\n",
    "        level = temp\n",
    "    return level\n",
    "\n",
    "\n",
    "# print(getEncryptedNumber([1,2,3,4])) #82\n",
    "# print(getEncryptedNumber([4,5,6,7])) #04"
   ]
  },
  {
   "cell_type": "markdown",
   "metadata": {},
   "source": [
    "High Fre"
   ]
  },
  {
   "cell_type": "code",
   "execution_count": null,
   "metadata": {
    "pycharm": {
     "name": "#%%\n"
    }
   },
   "outputs": [],
   "source": [
    "#searchWord resultWord"
   ]
  },
  {
   "cell_type": "code",
   "execution_count": null,
   "metadata": {
    "pycharm": {
     "name": "#%%\n"
    }
   },
   "outputs": [],
   "source": [
    "#1846 sort arr first1\n",
    "class Solution:\n",
    "    def maximumElementAfterDecrementingAndRearranging(self, arr: List[int]) -> int:\n",
    "        n = len(arr)\n",
    "        arr.sort()\n",
    "        arr[0] = 1\n",
    "        for i in range(1, n):\n",
    "            if arr[i] - arr[i - 1] > 1:\n",
    "                arr[i] = arr[i - 1] + 1\n",
    "        return arr[n - 1]\n",
    "#2 O(n)\n",
    "class Solution:\n",
    "    def maximumElementAfterDecrementingAndRearranging(self, arr: List[int]) -> int:\n",
    "        n = len(arr)\n",
    "        cnts = [0] * (n + 1)\n",
    "        for num in arr:\n",
    "            cnts[min(num, n)] += 1\n",
    "        limit = 0\n",
    "        for i in range(1, n + 1):\n",
    "            limit = min(i, limit + cnts[i])\n",
    "        return limit\n"
   ]
  },
  {
   "cell_type": "code",
   "execution_count": null,
   "metadata": {
    "pycharm": {
     "name": "#%%\n"
    }
   },
   "outputs": [],
   "source": [
    "#200 numIslands\n",
    "class Solution:\n",
    "    def numIslands(self, grid):\n",
    "        row, col, ret = len(grid), len(grid[0]), 0\n",
    "\n",
    "        def dfs(x, y):\n",
    "            grid[x][y] = '0'\n",
    "            for c in [[0, 1], [0, -1], [1, 0], [-1, 0]]:\n",
    "                nx, ny = x + c[0], y + c[1]\n",
    "                if 0 <= nx < row and 0 <= ny < col and grid[nx][ny] == '1':\n",
    "                    dfs(nx, ny)\n",
    "\n",
    "        for i in range(row):\n",
    "            for j in range(col):\n",
    "                if grid[i][j] == '1':\n",
    "                    dfs(i, j)\n",
    "                    ret += 1\n",
    "        return ret"
   ]
  },
  {
   "cell_type": "code",
   "execution_count": null,
   "metadata": {
    "pycharm": {
     "name": "#%%\n"
    }
   },
   "outputs": [],
   "source": [
    "#56 merge intervals\n",
    "class Solution:\n",
    "    def merge(self, intervals: List[List[int]]) -> List[List[int]]:\n",
    "        n = len(intervals)\n",
    "        res = []\n",
    "        intervals.sort(key = lambda x: x[0])\n",
    "        res.append(intervals[0])\n",
    "        if n == 0:\n",
    "            return intervals\n",
    "        for i in range(1,n):\n",
    "            r = res[-1]\n",
    "            if r[1] >= intervals[i][0]:\n",
    "                res[-1] = [r[0], max(r[1], intervals[i][1])]\n",
    "            else:\n",
    "                res.append(intervals[i])\n",
    "        return res\n",
    "#2\n",
    "class Solution:\n",
    "    def merge(self, intervals: List[List[int]]) -> List[List[int]]:\n",
    "        intervals.sort(key=lambda x: x[0])\n",
    "        merged = []\n",
    "        for interval in intervals:\n",
    "        # 如果列表为空，或者当前区间与上一区间不重合，直接添加\n",
    "            if not merged or merged[-1][1] < interval[0]:\n",
    "                merged.append(interval)\n",
    "            else:\n",
    "            # 否则的话，我们就可以与上一区间进行合并\n",
    "                merged[-1][1] = max(merged[-1][1], interval[1])\n",
    "        return merged"
   ]
  },
  {
   "cell_type": "code",
   "execution_count": null,
   "metadata": {
    "pycharm": {
     "name": "#%%\n"
    }
   },
   "outputs": [],
   "source": [
    "#API"
   ]
  },
  {
   "cell_type": "code",
   "execution_count": null,
   "metadata": {
    "pycharm": {
     "name": "#%%\n"
    }
   },
   "outputs": [],
   "source": [
    "#九宫格排序，按频率依次填·"
   ]
  },
  {
   "cell_type": "code",
   "execution_count": null,
   "metadata": {
    "pycharm": {
     "name": "#%%\n"
    }
   },
   "outputs": [],
   "source": [
    "#K odd\n",
    "def distinctSubKOdds(arr, n, k):\n",
    "    # Write your code here\n",
    "    res = set()\n",
    "    left, right, odd_num = 0, 0, 0\n",
    "    while right < len(arr):\n",
    "        if arr[right] % 2 == 1:\n",
    "            odd_num += 1\n",
    "        while odd_num > k and left < right:\n",
    "            if arr[left] % 2 == 1:\n",
    "                odd_num -= 1\n",
    "            left += 1\n",
    "        for left_start in range(left, right + 1):\n",
    "            res.add(\",\".join(map(str, arr[left_start:right + 1])))\n",
    "        right += 1\n",
    "    return len(res)\n",
    "#2\n",
    "def func( arr, k):\n",
    "    left = -1\n",
    "    ans = 0\n",
    "    for right in range( len(arr)):\n",
    "        if arr[right] % 2 == 1:\n",
    "            k -= 1\n",
    "        while k < 0:\n",
    "            left += 1\n",
    "            if arr[left] % 2 == 1:\n",
    "                k += 1\n",
    "        ans += right - left #固定right为最后一个数，任何左端点>left的subarray都符合要求\n",
    "    return ans"
   ]
  },
  {
   "cell_type": "code",
   "execution_count": null,
   "metadata": {
    "pycharm": {
     "name": "#%%\n"
    }
   },
   "outputs": [],
   "source": [
    "#answered needed\n",
    "def solution(answered, needed, q):\n",
    "    rest = []\n",
    "    res = 0\n",
    "    for i in range(len(needed)):\n",
    "        rest.append(needed[i] - answered[i])\n",
    "    rest.sort()\n",
    "    for r in rest:\n",
    "        if r==0:\n",
    "            res += 1\n",
    "        else:\n",
    "            if q-r >= 0:\n",
    "                res += 1\n",
    "                q -= r\n",
    "            else:\n",
    "                break\n",
    "    return res\n",
    "\n",
    "answered = [5,1,2,3,1,0]\n",
    "needed = [11,2,2,6,1,2]\n",
    "q = 2\n",
    "solution(answered, needed, q)"
   ]
  },
  {
   "cell_type": "markdown",
   "metadata": {
    "pycharm": {
     "name": "#%% md\n"
    }
   },
   "source": [
    "Ohter"
   ]
  },
  {
   "cell_type": "code",
   "execution_count": 50,
   "metadata": {
    "pycharm": {
     "name": "#%%\n"
    }
   },
   "outputs": [
    {
     "name": "stdout",
     "output_type": "stream",
     "text": [
      "8\n"
     ]
    }
   ],
   "source": [
    "#sum similartities of string with its suffixes\n",
    "# Python3 implementation of the approach\n",
    "def getZarr(s, n, Z):\n",
    "\tL, R, k = 0, 0, 0\n",
    "\tfor i in range(n):\n",
    "\t\tif i > R:\n",
    "\t\t\tL, R = i, i\n",
    "\t\t\twhile R < n and s[R - L] == s[R]:\n",
    "\t\t\t\tR += 1\n",
    "\t\t\tZ[i] = R - L\n",
    "\t\t\tR -= 1\n",
    "\t\telse:\n",
    "\t\t\tif Z[k] < R - i + 1:\n",
    "\t\t\t\tZ[i] = Z[k]\n",
    "\t\t\telse:\n",
    "\t\t\t\tL = i\n",
    "\t\t\t\twhile R < n and s[R - L] == s[R]:\n",
    "\t\t\t\t\tR += 1\n",
    "\t\t\t\tZ[i] = R - L\n",
    "\t\t\t\tR -= 1\n",
    "\n",
    "def sumSimilarities(s, n):\n",
    "\tZ = [0 for i in range(n)]\n",
    "\tgetZarr(s, n, Z)\n",
    "\ttotal = n\n",
    "\tfor i in range(n):\n",
    "\t\ttotal += Z[i]\n",
    "\treturn total\n",
    "# Driver Code\n",
    "s = \"ababa\"\n",
    "\n",
    "n = len(s)\n",
    "\n",
    "print(sumSimilarities(s, n))"
   ]
  },
  {
   "cell_type": "code",
   "execution_count": null,
   "metadata": {
    "collapsed": true
   },
   "outputs": [],
   "source": [
    "def groupSort(arr):\n",
    "    fre=[]\n",
    "    arr.sort()\n",
    "\n",
    "    temp=arr[0]\n",
    "    flag=0\n",
    "    # Write your code here\n",
    "    for i in range(len(arr)):\n",
    "        if arr[i] == temp:\n",
    "            flag+=1\n",
    "        else:\n",
    "            print(flag)\n",
    "            fre.append([temp,flag])\n",
    "            temp=arr[i]\n",
    "            flag=1\n",
    "        if i == len(arr)-1:\n",
    "            fre.append([temp,flag])\n",
    "    fre=sorted(fre,key=(lambda x:[x[1],-x[0]]),reverse=True)\n",
    "    return fre\n",
    "\n",
    "print(groupSort([3,1,2,2]))"
   ]
  },
  {
   "cell_type": "code",
   "execution_count": null,
   "metadata": {
    "pycharm": {
     "name": "#%%\n"
    }
   },
   "outputs": [],
   "source": [
    "#学生最多能完成几道题,给两个数组（每道题的required scores和每道题学生已经拿到的分数）一个数字（该学生还能完成多少scores），\n",
    "#要求返回该学生最多能完成几道题。这道题把两个数组一减再排就可以了"
   ]
  },
  {
   "cell_type": "code",
   "execution_count": null,
   "metadata": {
    "pycharm": {
     "name": "#%%\n"
    }
   },
   "outputs": [],
   "source": [
    "#packaging-automation\n",
    "def maxFinial(arr):\n",
    "    # sort the array in ascending order\n",
    "    arr.sort()\n",
    "\n",
    "    # the first element should be 1\n",
    "    arr[0] = 1\n",
    "\n",
    "    for i in range(1, l):\n",
    "        if arr[i] > arr[i - 1]:\n",
    "            arr[i] = arr[i - 1] + 1\n",
    "\n",
    "    return arr[-1]\n",
    "\n",
    "\n",
    "if __name__ == '__main__':\n",
    "    arr = [1, 1, 2, 3, 7, 5, 6, 2, 45]\n",
    "    res = maxFinial(arr)\n",
    "    print(res)"
   ]
  },
  {
   "cell_type": "code",
   "execution_count": null,
   "metadata": {
    "pycharm": {
     "name": "#%%\n"
    }
   },
   "outputs": [],
   "source": [
    "#load cargo\n",
    "def carge():\n",
    "    arr = []\n",
    "    c = 0\n",
    "    for i in range(len(containers)):\n",
    "        temp = []\n",
    "        if i == c:\n",
    "            temp.append(containers[c])\n",
    "            temp.append(itemsPerContainer[c])\n",
    "            c+=1\n",
    "\n",
    "        arr.append(temp)\n",
    "\n",
    "    arr.sort(key = lambda x : -x[1])\n",
    "    result = 0\n",
    "\n",
    "    for box, units in arr:\n",
    "        if box < cargoSize:\n",
    "            result += box*units\n",
    "            cargoSize -= box\n",
    "\n",
    "        else:\n",
    "            result+= cargoSize*units\n",
    "            return result\n",
    "    return result"
   ]
  },
  {
   "cell_type": "code",
   "execution_count": 4,
   "metadata": {
    "pycharm": {
     "name": "#%%\n"
    }
   },
   "outputs": [
    {
     "data": {
      "text/plain": [
       "1"
      ]
     },
     "execution_count": 4,
     "metadata": {},
     "output_type": "execute_result"
    }
   ],
   "source": [
    "#给一个array和规定的MaxRange上限，求array可能的最小分组数。\n",
    "#对每组人数没有限制。每组水平上下限分别在MaxRange里就行\n",
    "def minRange(arr,MR):\n",
    "    arr.sort()\n",
    "    flag=arr[0]\n",
    "    num=0\n",
    "    for i in range(len(arr)):\n",
    "        if arr[i]-flag >= MR:\n",
    "            num+=1\n",
    "            flag=arr[i]\n",
    "    return num\n",
    "\n",
    "print(minRange([1,2,3,9],2))"
   ]
  },
  {
   "cell_type": "code",
   "execution_count": 3,
   "metadata": {
    "pycharm": {
     "name": "#%%\n"
    }
   },
   "outputs": [
    {
     "data": {
      "text/plain": [
       "4"
      ]
     },
     "execution_count": 3,
     "metadata": {},
     "output_type": "execute_result"
    }
   ],
   "source": [
    "def classGrouping(levels, maxSpread):\n",
    "    count = 1\n",
    "    levels.sort()\n",
    "    current = levels[0]\n",
    "    for l in levels:\n",
    "        if l > current + maxSpread:\n",
    "            count += 1\n",
    "            current = l\n",
    "    return count\n",
    "#2\n",
    "def class_arrange(nums, k):\n",
    "    nums.sort()\n",
    "    l, r = 0, 0\n",
    "    ans = 1\n",
    "    while r <= len(nums)-1:\n",
    "        if nums[r] - nums[l] <= k:\n",
    "            r += 1\n",
    "        else:\n",
    "            l = r\n",
    "            ans += 1\n",
    "    return ans\n",
    "classGrouping([1, 2, 3, 4, 5,9,11,18], 2)"
   ]
  },
  {
   "cell_type": "code",
   "execution_count": null,
   "metadata": {
    "pycharm": {
     "name": "#%%\n"
    }
   },
   "outputs": [],
   "source": [
    "#k distinct char substring\n",
    "def countkDist(str1, k):\n",
    "    n = len(str1)\n",
    "\n",
    "    # Initialize result\n",
    "    res = 0\n",
    "\n",
    "    # To store count of characters from\n",
    "    # 'a' to 'z'\n",
    "    cnt = [0] * 27\n",
    "\n",
    "    # Consider all substrings beginning\n",
    "    # with str[i]\n",
    "    for i in range(0, n):\n",
    "        dist_count = 0\n",
    "\n",
    "        # Initializing array with 0\n",
    "        cnt = [0] * 27\n",
    "\n",
    "        # Consider all substrings between str[i..j]\n",
    "        for j in range(i, n):\n",
    "\n",
    "            # If this is a new character for this\n",
    "            # substring, increment dist_count.\n",
    "            if(cnt[ord(str1[j]) - 97] == 0):\n",
    "                dist_count += 1\n",
    "\n",
    "            # Increment count of current character\n",
    "            cnt[ord(str1[j]) - 97] += 1\n",
    "\n",
    "            # If distinct character count becomes k,\n",
    "            # then increment result.\n",
    "            if(dist_count == k):\n",
    "                res += 1\n",
    "            if(dist_count > k):\n",
    "                break\n",
    "\n",
    "    return res\n",
    "\n",
    "# Driver Code\n",
    "if __name__ == \"__main__\":\n",
    "    str1 = \"abcbaa\"\n",
    "    k = 3\n",
    "    print(\"Total substrings with exactly\", k,\n",
    "           \"distinct characters : \", end = \"\")\n",
    "    print(countkDist(str1, k))"
   ]
  },
  {
   "cell_type": "code",
   "execution_count": null,
   "metadata": {
    "pycharm": {
     "name": "#%%\n"
    }
   },
   "outputs": [],
   "source": [
    "#shuffle cards\n",
    "import random\n",
    "def shuffle(card,n) :\n",
    "\n",
    "\t# Initialize seed randomly\n",
    "\tfor i in range(n):\n",
    "\n",
    "\t\t# Random for remaining positions.\n",
    "\t\tr = i + (random.randint(0,55) % (52 -i))\n",
    "\t\ttmp=card[i]\n",
    "\t\tcard[i]=card[r]\n",
    "\t\tcard[r]=tmp\n",
    "#Driver code\n",
    "if __name__=='__main__':\n",
    "\ta=[0, 1, 2, 3, 4, 5, 6, 7, 8,\n",
    "\t9, 10, 11, 12, 13, 14, 15,\n",
    "\t16, 17, 18, 19, 20, 21, 22,\n",
    "\t23, 24, 25, 26, 27, 28, 29,\n",
    "\t30, 31, 32, 33, 34, 35, 36,\n",
    "\t37, 38, 39, 40, 41, 42, 43,\n",
    "\t44, 45, 46, 47, 48, 49, 50,\n",
    "\t51]\n",
    "\tshuffle(a,52)\n",
    "\tprint(a)"
   ]
  },
  {
   "cell_type": "code",
   "execution_count": null,
   "metadata": {
    "pycharm": {
     "name": "#%%\n"
    }
   },
   "outputs": [],
   "source": [
    "#competitive gaming(cutoff rank)\n",
    "'''\n",
    "public static int levelUp(int k, List<Integer> score) {\n",
    "    if(k <= 0) return 0;\n",
    "    Collections.sort(score, Collections.reverseOrder());\n",
    "    int rank = 1;\n",
    "    int res = 0;\n",
    "    for(int i = 0; i < score.length(); i++) {\n",
    "        if(i == 0) {\n",
    "            rank = 1;\n",
    "        } else if(score.get(i) != score.get(i - 1)) {\n",
    "            rank = i + 1;\n",
    "        }\n",
    "        if(rank <= k && score.get(i) > 0) res++;\n",
    "        else break;\n",
    "    }\n",
    "    return res;\n",
    "}\n",
    "'''"
   ]
  },
  {
   "cell_type": "markdown",
   "metadata": {
    "pycharm": {
     "name": "#%% md\n"
    }
   },
   "source": [
    "LC"
   ]
  },
  {
   "cell_type": "code",
   "execution_count": null,
   "metadata": {
    "pycharm": {
     "name": "#%%\n"
    }
   },
   "outputs": [],
   "source": [
    "#49 anagrams\n",
    "def removeAnagrams(arr, N):\n",
    "    # vector to store the final result\n",
    "    ans = []\n",
    "    # data structure to keep a mark\n",
    "    # of the previously occured string\n",
    "    found = dict()\n",
    "    for i in range(N):\n",
    "        word = arr[i]\n",
    "        # Sort the characters\n",
    "        # of the current string\n",
    "        word = \" \".join(sorted(word))\n",
    "        # Check if current is not\n",
    "        # present inside the hashmap\n",
    "        # Then push it in the resultant vector\n",
    "        # and insert it in the hashmap\n",
    "        if (word not in found):\n",
    "            ans.append(arr[i])\n",
    "            found[word] = 1\n",
    "    # Sort the resultant vector of strings\n",
    "    ans = sorted(ans)\n",
    "    # Print the required array\n",
    "    for i in range(len(ans)):\n",
    "        print(ans[i], end=\" \")\n",
    "# Driver code\n",
    "if __name__ == '__main__':\n",
    "    arr=[\"geeks\", \"keegs\",\"code\", \"doce\"]\n",
    "    N = 4\n",
    "    removeAnagrams(arr, N)"
   ]
  },
  {
   "cell_type": "code",
   "execution_count": null,
   "metadata": {
    "pycharm": {
     "name": "#%%\n"
    }
   },
   "outputs": [],
   "source": [
    "#21 merge two lists\n",
    "class Solution:\n",
    "    def mergeTwoLists(self, l1: ListNode, l2: ListNode) -> ListNode:\n",
    "        if not l1: return l2  # 终止条件，直到两个链表都空\n",
    "        if not l2: return l1\n",
    "        if l1.val <= l2.val:  # 递归调用\n",
    "            l1.next = self.mergeTwoLists(l1.next,l2)\n",
    "            return l1\n",
    "        else:\n",
    "            l2.next = self.mergeTwoLists(l1,l2.next)\n",
    "            return l2"
   ]
  },
  {
   "cell_type": "code",
   "execution_count": null,
   "metadata": {
    "pycharm": {
     "name": "#%%\n"
    }
   },
   "outputs": [],
   "source": [
    "#57\n",
    "#insert intervals\n",
    "class Solution:\n",
    "    def insert(self, intervals: List[List[int]], newInterval: List[int]) -> List[List[int]]:\n",
    "        left, right = newInterval\n",
    "        placed = False\n",
    "        ans = list()\n",
    "        for li, ri in intervals:\n",
    "            if li > right:\n",
    "                # 在插入区间的右侧且无交集\n",
    "                if not placed:\n",
    "                    ans.append([left, right])\n",
    "                    placed = True\n",
    "                ans.append([li, ri])\n",
    "            elif ri < left:\n",
    "                # 在插入区间的左侧且无交集\n",
    "                ans.append([li, ri])\n",
    "            else:\n",
    "                # 与插入区间有交集，计算它们的并集\n",
    "                left = min(left, li)\n",
    "                right = max(right, ri)\n",
    "\n",
    "        if not placed:\n",
    "            ans.append([left, right])\n",
    "        return ans"
   ]
  },
  {
   "cell_type": "code",
   "execution_count": null,
   "metadata": {
    "pycharm": {
     "name": "#%%\n"
    }
   },
   "outputs": [],
   "source": [
    "#146 LRU cache\n",
    "class ListNode:\n",
    "    def __init__(self, key = 0, val = 0):\n",
    "        self.key = key\n",
    "        self.val = val\n",
    "        self.prev = None\n",
    "        self.next = None\n",
    "\n",
    "class LRUCache:\n",
    "    def __init__(self, capacity: int):\n",
    "        self.capacity = capacity\n",
    "        self.hashmap = {}\n",
    "        self.head = ListNode()\n",
    "        self.tail = ListNode()\n",
    "        self.head.next = self.tail\n",
    "        self.tail.prev = self.head\n",
    "\n",
    "    def remove_node(self, node):\n",
    "        node.prev.next = node.next\n",
    "        node.next.prev = node.prev\n",
    "\n",
    "    def add_node_to_last(self, node):\n",
    "        self.tail.prev.next = node\n",
    "        node.prev = self.tail.prev\n",
    "        node.next = self.tail\n",
    "        self.tail.prev = node\n",
    "\n",
    "    def move_node_to_last(self, node):\n",
    "        self.remove_node(node)\n",
    "        self.add_node_to_last(node)\n",
    "\n",
    "    def get(self, key: int) -> int:\n",
    "        if key not in self.hashmap:\n",
    "            return -1\n",
    "        node = self.hashmap[key]\n",
    "        self.move_node_to_last(node)\n",
    "        return node.val\n",
    "\n",
    "    def put(self, key: int, value: int) -> None:\n",
    "        if key in self.hashmap:\n",
    "            node = self.hashmap[key]\n",
    "            node.val = value\n",
    "            self.move_node_to_last(node)\n",
    "            return\n",
    "        if len(self.hashmap) == self.capacity:\n",
    "            del self.hashmap[self.head.next.key]\n",
    "            self.remove_node(self.head.next)\n",
    "        node = ListNode(key, value)\n",
    "        self.hashmap[key] = node\n",
    "        self.add_node_to_last(node)"
   ]
  },
  {
   "cell_type": "code",
   "execution_count": null,
   "metadata": {
    "pycharm": {
     "name": "#%%\n"
    }
   },
   "outputs": [],
   "source": [
    "#155 minstack\n",
    "class MinStack(object):\n",
    "\n",
    "    def __init__(self):\n",
    "        \"\"\"\n",
    "        initialize your data structure here.\n",
    "        \"\"\"\n",
    "        self.stack = []\n",
    "\n",
    "\n",
    "    def push(self, x):\n",
    "        \"\"\"\n",
    "        :type x: int\n",
    "        :rtype: void\n",
    "        \"\"\"\n",
    "        if not self.stack:\n",
    "            self.stack.append((x, x))\n",
    "        else:\n",
    "            self.stack.append((x, min(x, self.stack[-1][1])))\n",
    "\n",
    "\n",
    "    def pop(self):\n",
    "        \"\"\"\n",
    "        :rtype: void\n",
    "        \"\"\"\n",
    "        self.stack.pop()\n",
    "\n",
    "\n",
    "    def top(self):\n",
    "        \"\"\"\n",
    "        :rtype: int\n",
    "        \"\"\"\n",
    "        return self.stack[-1][0]\n",
    "\n",
    "\n",
    "    def getMin(self):\n",
    "        \"\"\"\n",
    "        :rtype: int\n",
    "        \"\"\"\n",
    "        return self.stack[-1][1]"
   ]
  },
  {
   "cell_type": "code",
   "execution_count": null,
   "metadata": {
    "pycharm": {
     "name": "#%%\n"
    }
   },
   "outputs": [],
   "source": [
    "#209 min Subarray\n",
    "class Solution:\n",
    "    def minSubArrayLen(self, target: int, nums: List[int]) -> int:\n",
    "        res = len(nums) + 1\n",
    "        count = 0\n",
    "        tem = 0\n",
    "\n",
    "        for i in range(len(nums)):\n",
    "            tem += nums[i]\n",
    "            while tem >= target:\n",
    "                res = min(res, i - count + 1)\n",
    "                tem -= nums[count]\n",
    "                count += 1\n",
    "\n",
    "        if res == len(nums) + 1:\n",
    "            return 0\n",
    "        else:\n",
    "            return res"
   ]
  },
  {
   "cell_type": "code",
   "execution_count": null,
   "metadata": {
    "pycharm": {
     "name": "#%%\n"
    }
   },
   "outputs": [],
   "source": [
    "#221 max square\n",
    "class Solution:\n",
    "    def getWidth(self,num):  #步骤3：求一个数中连续最多的1\n",
    "        w=0\n",
    "        while num>0:\n",
    "            num&=num<<1\n",
    "            w+=1\n",
    "        return w\n",
    "    def maximalSquare(self, matrix: List[List[str]]) -> int:\n",
    "        nums=[int(''.join(n),base=2) for n in matrix]  #步骤1：每一行当作二进制数\n",
    "        res,n=0,len(nums)\n",
    "        for i in range(n):   #步骤2：枚举所有的组合，temp存储相与的结果\n",
    "            temp=nums[i]\n",
    "            for j in range(i,n):\n",
    "                temp&=nums[j]\n",
    "                w=self.getWidth(temp)\n",
    "                h=j-i+1\n",
    "                res=max(res,min(w,h))\n",
    "        return res*res"
   ]
  },
  {
   "cell_type": "code",
   "execution_count": null,
   "metadata": {
    "pycharm": {
     "name": "#%%\n"
    }
   },
   "outputs": [],
   "source": [
    "#466 max repet\n",
    "#找出一个最大整数 m ，以满足 str = [str2, m] 可以从 str1 获得。\n",
    "class Solution:\n",
    "    def getMaxRepetitions(self, s1: str, n1: int, s2: str, n2: int) -> int:\n",
    "        if n1 == 0:\n",
    "            return 0\n",
    "        s1cnt, index, s2cnt = 0, 0, 0\n",
    "        # recall 是我们用来找循环节的变量，它是一个哈希映射\n",
    "        # 我们如何找循环节？假设我们遍历了 s1cnt 个 s1，此时匹配到了第 s2cnt 个 s2 中的第 index 个字符\n",
    "        # 如果我们之前遍历了 s1cnt' 个 s1 时，匹配到的是第 s2cnt' 个 s2 中同样的第 index 个字符，那么就有循环节了\n",
    "        # 我们用 (s1cnt', s2cnt', index) 和 (s1cnt, s2cnt, index) 表示两次包含相同 index 的匹配结果\n",
    "        # 那么哈希映射中的键就是 index，值就是 (s1cnt', s2cnt') 这个二元组\n",
    "        # 循环节就是；\n",
    "        #    - 前 s1cnt' 个 s1 包含了 s2cnt' 个 s2\n",
    "        #    - 以后的每 (s1cnt - s1cnt') 个 s1 包含了 (s2cnt - s2cnt') 个 s2\n",
    "        # 那么还会剩下 (n1 - s1cnt') % (s1cnt - s1cnt') 个 s1, 我们对这些与 s2 进行暴力匹配\n",
    "        # 注意 s2 要从第 index 个字符开始匹配\n",
    "        recall = dict()\n",
    "        while True:\n",
    "            # 我们多遍历一个 s1，看看能不能找到循环节\n",
    "            s1cnt += 1\n",
    "            for ch in s1:\n",
    "                if ch == s2[index]:\n",
    "                    index += 1\n",
    "                    if index == len(s2):\n",
    "                        s2cnt, index = s2cnt + 1, 0\n",
    "            # 还没有找到循环节，所有的 s1 就用完了\n",
    "            if s1cnt == n1:\n",
    "                return s2cnt // n2\n",
    "            # 出现了之前的 index，表示找到了循环节\n",
    "            if index in recall:\n",
    "                s1cnt_prime, s2cnt_prime = recall[index]\n",
    "                # 前 s1cnt' 个 s1 包含了 s2cnt' 个 s2\n",
    "                pre_loop = (s1cnt_prime, s2cnt_prime)\n",
    "                # 以后的每 (s1cnt - s1cnt') 个 s1 包含了 (s2cnt - s2cnt') 个 s2\n",
    "                in_loop = (s1cnt - s1cnt_prime, s2cnt - s2cnt_prime)\n",
    "                break\n",
    "            else:\n",
    "                recall[index] = (s1cnt, s2cnt)\n",
    "\n",
    "        # ans 存储的是 S1 包含的 s2 的数量，考虑的之前的 pre_loop 和 in_loop\n",
    "        ans = pre_loop[1] + (n1 - pre_loop[0]) // in_loop[0] * in_loop[1]\n",
    "        # S1 的末尾还剩下一些 s1，我们暴力进行匹配\n",
    "        rest = (n1 - pre_loop[0]) % in_loop[0]\n",
    "        for i in range(rest):\n",
    "            for ch in s1:\n",
    "                if ch == s2[index]:\n",
    "                    index += 1\n",
    "                    if index == len(s2):\n",
    "                        ans, index = ans + 1, 0\n",
    "        # S1 包含 ans 个 s2，那么就包含 ans / n2 个 S2\n",
    "        return ans // n2"
   ]
  },
  {
   "cell_type": "code",
   "execution_count": null,
   "metadata": {
    "pycharm": {
     "name": "#%%\n"
    }
   },
   "outputs": [],
   "source": [
    "#1710 max units on a truck\n",
    "class Solution:\n",
    "    def maximumUnits(self, boxTypes: List[List[int]], truckSize: int) -> int:\n",
    "        num = 0\n",
    "        for box in sorted(boxTypes,key = lambda x:x[1],reverse = True):\n",
    "            num += min(box[0],truckSize) * box[1]\n",
    "            truckSize -= min(box[0],truckSize)\n",
    "            if truckSize == 0:\n",
    "                return num\n",
    "        return num\n"
   ]
  },
  {
   "cell_type": "code",
   "execution_count": null,
   "metadata": {
    "pycharm": {
     "name": "#%%\n"
    }
   },
   "outputs": [],
   "source": [
    "#825 friend\n",
    "class Solution:\n",
    "    def numFriendRequests(self, ages:list) -> int:\n",
    "        res = 0  # 保存结果数量\n",
    "\n",
    "        line = [0]*121\n",
    "        for x in ages:  #统计次数\n",
    "            line[x] += 1\n",
    "\n",
    "        # 统计120个数字每个数字需要发送的请求数之和，即为答案\n",
    "        for i in range(15,121):  # 因为<=14的数不会向任何人发请求也不会被发请求\n",
    "            if not line[i]:  # 如果目前数字没出现，即0次，跳过\n",
    "                continue\n",
    "            else:  # 目前数字出现\n",
    "                tp = -1  # 用来记录目前的一个数字发送的请求数（初始值设为-1因为不包括这一个数字自己）\n",
    "#初始值为-1 是为了同一个数字重复多次出现时，互相之间除去自身 如[16,16,16] 应为3个数*每个数发2（3-1）次\n",
    "                for j in range(i // 2 + 8, i + 1):  # 排除条件1和条件2的范围，除前也除后\n",
    "                    tp += line[j]\n",
    "                res += line[i]*tp  # 目前数字出现的次数 * 一个数字需要发送请求数\n",
    "        return res"
   ]
  },
  {
   "cell_type": "code",
   "execution_count": null,
   "metadata": {
    "pycharm": {
     "name": "#%%\n"
    }
   },
   "outputs": [],
   "source": [
    "#287\n",
    "class Solution:\n",
    "    def findDuplicate(self, nums: List[int]) -> int:\n",
    "        left = 1\n",
    "        right = len(nums) - 1\n",
    "        while left < right:\n",
    "            mid = left + (right - left) // 2\n",
    "            cnt = 0\n",
    "            for num in nums:\n",
    "                if num <= mid:\n",
    "                    cnt += 1\n",
    "            if cnt > mid:\n",
    "                right = mid\n",
    "            else:\n",
    "                left = mid + 1\n",
    "        return left"
   ]
  },
  {
   "cell_type": "code",
   "execution_count": null,
   "metadata": {
    "pycharm": {
     "name": "#%%\n"
    }
   },
   "outputs": [],
   "source": [
    "#1135\n",
    "class UnionFindSet(object):\n",
    "    def __init__(self, n):\n",
    "\n",
    "        # m, n = len(grid), len(grid[0])\n",
    "        self.roots = [i for i in range(n + 1)]\n",
    "        self.rank = [0 for i in range(n + 1)]\n",
    "        self.count = n\n",
    "\n",
    "    def find(self, member):\n",
    "        tmp = []\n",
    "        while member != self.roots[member]:\n",
    "            tmp.append(member)\n",
    "            member = self.roots[member]\n",
    "        for root in tmp:\n",
    "            self.roots[root] = member\n",
    "        return member\n",
    "\n",
    "    def union(self, p, q):\n",
    "        parentP = self.find(p)\n",
    "        parentQ = self.find(q)\n",
    "        if parentP != parentQ:\n",
    "            if self.rank[parentP] > self.rank[parentQ]:\n",
    "                self.roots[parentQ] = parentP\n",
    "            elif self.rank[parentP] < self.rank[parentQ]:\n",
    "                self.roots[parentP] = parentQ\n",
    "            else:\n",
    "                self.roots[parentQ] = parentP\n",
    "                self.rank[parentP] -= 1\n",
    "            self.count -= 1\n",
    "\n",
    "class Solution(object):\n",
    "    def minimumCost(self, N, connections):\n",
    "        \"\"\"\n",
    "        :type N: int\n",
    "        :type conections: List[List[int]]\n",
    "        :rtype: int\n",
    "        \"\"\"\n",
    "        from collections import deque\n",
    "        from heapq import *\n",
    "        ufs = UnionFindSet(N)\n",
    "        queue = []\n",
    "\n",
    "        for start, end, cost in connections:\n",
    "            ufs.union(start, end)\n",
    "            queue.append([cost, start, end])\n",
    "\n",
    "        if ufs.count != 1:\n",
    "            return -1 #无法连接在一起\n",
    "        #到这里可以保证一定可以把所有城市连在一起\n",
    "        ufs2 = UnionFindSet(N)\n",
    "        heapify(queue)\n",
    "        res = 0\n",
    "        while ufs2.count > 1:\n",
    "            cost, start, end = heappop(queue)\n",
    "            if ufs2.find(start) == ufs2.find(end):\n",
    "                continue\n",
    "            ufs2.union(start, end)\n",
    "            res += cost\n",
    "        return res"
   ]
  },
  {
   "cell_type": "code",
   "execution_count": null,
   "metadata": {
    "pycharm": {
     "name": "#%%\n"
    }
   },
   "outputs": [],
   "source": [
    "#1833 max icecream\n",
    "class Solution:\n",
    "    def maxIceCream(self, costs, coins):\n",
    "        costs.sort(reverse=True)\n",
    "        num = 0\n",
    "        while costs and coins >= costs[-1]:\n",
    "            num += 1\n",
    "            coins -= costs.pop()\n",
    "        return num\n"
   ]
  },
  {
   "cell_type": "code",
   "execution_count": null,
   "metadata": {
    "pycharm": {
     "name": "#%%\n"
    }
   },
   "outputs": [],
   "source": [
    "#829 连续整数求和\n",
    "    def consecutiveNumbersSum(self, N: int) -> int:\n",
    "        # 1个数时，必然有一个数可构成N\n",
    "        # 2个数若要构成N，第2个数与第1个数差为1，N减掉这个1能整除2则能由商与商+1构成N\n",
    "        # 3个数若要构成N，第2个数与第1个数差为1，第3个数与第1个数的差为2，N减掉1再减掉2能整除3则能由商、商+1与商+2构成N\n",
    "        # 依次内推，当商即第1个数小于等于0时结束\n",
    "        res, i = 0, 1\n",
    "        while N > 0:\n",
    "            res += N % i == 0\n",
    "            N -= i\n",
    "            i += 1\n",
    "        return res\n"
   ]
  },
  {
   "cell_type": "code",
   "execution_count": null,
   "metadata": {
    "pycharm": {
     "name": "#%%\n"
    }
   },
   "outputs": [],
   "source": [
    "#743 network delay\n",
    "class Solution:\n",
    "    def networkDelayTime(self, times: List[List[int]], n: int, k: int) -> int:\n",
    "        connect = defaultdict(lambda:defaultdict(int))\n",
    "        for u,v,w in times:\n",
    "            connect[u][v] = w\n",
    "        q = [(0, k)]\n",
    "        explored = set()\n",
    "        while q:\n",
    "            t, node = heapq.heappop(q)\n",
    "            if node in explored:\n",
    "                continue\n",
    "            explored.add(node)\n",
    "            if len(explored) == n:\n",
    "                return t\n",
    "            for other, tm in connect[node].items():\n",
    "                if other not in explored:\n",
    "                    heapq.heappush(q, (t+tm, other))\n",
    "        return -1"
   ]
  },
  {
   "cell_type": "code",
   "execution_count": null,
   "metadata": {
    "pycharm": {
     "name": "#%%\n"
    }
   },
   "outputs": [],
   "source": [
    "#394 decode string\n",
    "class Solution:\n",
    "    def decodeString(self, s):\n",
    "        def decode(i):\n",
    "            ans = \"\"\n",
    "            while i < len(s) and s[i] != ']':\n",
    "                while i < len(s) and s[i].isalpha():\n",
    "                    ans += s[i]\n",
    "                    i += 1\n",
    "                if i >= len(s) or s[i] == ']': continue\n",
    "                n = \"\"\n",
    "                while i < len(s) and s[i].isdigit():\n",
    "                    n += s[i]\n",
    "                    i += 1\n",
    "                tmp, i = decode(i+1)\n",
    "                ans += tmp * int(n)\n",
    "            return (ans, i+1)\n",
    "        return decode(0)[0]"
   ]
  },
  {
   "cell_type": "code",
   "execution_count": null,
   "metadata": {
    "pycharm": {
     "name": "#%%\n"
    }
   },
   "outputs": [],
   "source": [
    "#1481\n",
    "#K removals\n",
    "def findLeastNumOfUniqueInts(arr,k):\n",
    "    # 只需要关注频数\n",
    "    freq = list(Counter(arr).values())\n",
    "    freq.sort()\n",
    "    while k>0:\n",
    "        # 可全删\n",
    "        if k-freq[0]>=0:\n",
    "            k-=freq.pop(0)\n",
    "        # 只删部分\n",
    "        else:\n",
    "            k=0\n",
    "    return len(freq)\n",
    "#2\n",
    "class Solution:\n",
    "    def findLeastNumOfUniqueInts(self, arr: List[int], k: int) -> int:\n",
    "        count = collections.Counter(arr)\n",
    "        num_cnt = len(count)\n",
    "        for x, cnt in sorted(count.items(), key = lambda x : x[1]):\n",
    "            if k >= cnt:\n",
    "                num_cnt -= 1\n",
    "                k -= cnt\n",
    "            else:\n",
    "                break\n",
    "        return num_cnt\n"
   ]
  },
  {
   "cell_type": "code",
   "execution_count": null,
   "metadata": {
    "pycharm": {
     "name": "#%%\n"
    }
   },
   "outputs": [],
   "source": [
    "#387\n",
    "class Solution:\n",
    "    def firstUniqChar(self, s: str) -> int:\n",
    "        position = dict()\n",
    "        n = len(s)\n",
    "        for i, ch in enumerate(s):\n",
    "            if ch in position:\n",
    "                position[ch] = -1\n",
    "            else:\n",
    "                position[ch] = i\n",
    "        first = n\n",
    "        for pos in position.values():\n",
    "            if pos != -1 and pos < first:\n",
    "                first = pos\n",
    "        if first == n:\n",
    "            first = -1\n",
    "        return first\n"
   ]
  },
  {
   "cell_type": "code",
   "execution_count": null,
   "metadata": {
    "pycharm": {
     "name": "#%%\n"
    }
   },
   "outputs": [],
   "source": [
    "#1492 K factor\n",
    "class Solution:\n",
    "    def kthFactor(self, n: int, k: int) -> int:\n",
    "        count = 0\n",
    "        factor = 1\n",
    "        while factor * factor <= n:\n",
    "            if n % factor == 0:\n",
    "                count += 1\n",
    "                if count == k:\n",
    "                    return factor\n",
    "                factor += 1\n",
    "            factor -= 1\n",
    "            if factor * factor == n:\n",
    "                factor -= 1\n",
    "            while factor > 0:\n",
    "                if n % factor == 0:\n",
    "                    count += 1\n",
    "                    if count == k:\n",
    "                        return n // factor\n",
    "                factor -= 1\n",
    "            return -1"
   ]
  },
  {
   "cell_type": "code",
   "execution_count": null,
   "metadata": {
    "pycharm": {
     "name": "#%%\n"
    }
   },
   "outputs": [],
   "source": [
    "#2 sum\n",
    "def two_sum_unique_pairs(self, nums, target):\n",
    "    visit_value_dict = set()\n",
    "    target_value_dict = set()\n",
    "    res = 0\n",
    "    for num in nums:\n",
    "        temp_value = target - num\n",
    "        if not num in target_value_dict:\n",
    "            target_value_dict.add(temp_value)\n",
    "        else:\n",
    "            visit_value_dict.add((num, temp_value))\n",
    "    res = len(visit_value_dict)\n",
    "    return res"
   ]
  },
  {
   "cell_type": "code",
   "execution_count": null,
   "metadata": {
    "pycharm": {
     "name": "#%%\n"
    }
   },
   "outputs": [],
   "source": [
    "#common prefix\n",
    "def solution(s):\n",
    "    list(s)\n",
    "    suffix = s\n",
    "    n = len(s)\n",
    "    res = n\n",
    "    for i in range(1,n):\n",
    "        suffix = s[i:]\n",
    "        j = 0\n",
    "        while j < len(suffix) and suffix[j] == s[j]:\n",
    "            res += 1\n",
    "            j += 1\n",
    "    return res\n",
    "solution(\"ababaa\")\n",
    "\n",
    "def getZarr(string, z):\n",
    "    n = len(string)\n",
    "    l, r, k = 0, 0, 0\n",
    "    for i in range(1, n):\n",
    "        if i > r:\n",
    "            l, r = i, i\n",
    "            while r < n and string[r - l] == string[r]:\n",
    "                r += 1\n",
    "            z[i] = r - l\n",
    "            r -= 1\n",
    "        else:\n",
    "            k = i - l\n",
    "            if z[k] < r - i + 1:\n",
    "                z[i] = z[k]\n",
    "            else:\n",
    "                l = i\n",
    "                while r < n and string[r - l] == string[r]:\n",
    "                    r += 1\n",
    "                z[i] = r - l\n",
    "                r -= 1\n",
    "    return z\n",
    "\n",
    "def search(text):\n",
    "    l = len(text)\n",
    "    # Construct Z array\n",
    "    z = [0] * l\n",
    "    getZarr(text, z)\n",
    "    return sum(z)+len(text)\n",
    "print(search(\"ababa\"))\n"
   ]
  },
  {
   "cell_type": "code",
   "execution_count": 6,
   "metadata": {
    "pycharm": {
     "name": "#%%\n"
    }
   },
   "outputs": [
    {
     "name": "stdout",
     "output_type": "stream",
     "text": [
      "40\n"
     ]
    }
   ],
   "source": [
    "def minimumKeypadClickCount(string):\n",
    "    times = 0\n",
    "    for t in (string):\n",
    "        times += int((ord(t)-ord(\"a\"))//9) + 1\n",
    "    return times\n",
    "print(minimumKeypadClickCount(\"hhheelloooooabcdefgopqrst\"))"
   ]
  },
  {
   "cell_type": "code",
   "execution_count": null,
   "metadata": {
    "pycharm": {
     "name": "#%%\n"
    }
   },
   "outputs": [],
   "source": [
    "# throttling gateways:\n",
    "def droppedRequests( requestTime:list) -> int:\n",
    "    dropped = 0\n",
    "    # you can include reqTime in enumerate for print purpose - debugging ( i.\n",
    "    #e., for i, reqTime in enumerate(requestTime) )\n",
    "    for i, _ in enumerate(requestTime):\n",
    "        if i > 2 and requestTime[i] == requestTime[i-3]:\n",
    "            dropped += 1\n",
    "            continue\n",
    "        if i > 19 and requestTime[i] - requestTime[i-20] < 10:\n",
    "            dropped += 1\n",
    "            continue\n",
    "        if i > 59 and requestTime[i] - requestTime[i-60] < 60:\n",
    "            dropped += 1\n",
    "    return dropped\n",
    "droppedRequests([1,1,1,1,2,2,2,3,3,3,4,4,4,5,5,5,6,6,6,7,7,7,7,11,11,11,11])"
   ]
  },
  {
   "cell_type": "code",
   "execution_count": null,
   "metadata": {
    "pycharm": {
     "name": "#%%\n"
    }
   },
   "outputs": [],
   "source": [
    "# MAX XOR of k elements\n",
    "\n",
    "MAX = 10000\n",
    "MAX_ELEMENT = 50\n",
    "\n",
    "dp =[[[-1 for i in range(MAX)]\n",
    "\tfor j in range(MAX_ELEMENT)]\n",
    "\tfor k in range(MAX_ELEMENT)]\n",
    "\n",
    "# Function to return the maximum xor for a\n",
    "# subset of size j from the given array\n",
    "def Max_Xor(arr, i, j, mask, n):\n",
    "\tif (i >= n):\n",
    "\n",
    "\t\t# If the subset is complete then return\n",
    "\t\t# the xor value of the selected elements\n",
    "\t\tif (j == 0):\n",
    "\t\t\treturn mask\n",
    "\t\telse:\n",
    "\t\t\treturn 0\n",
    "\n",
    "\t# Return if already calculated for some\n",
    "\t# mask and j at the i'th index\n",
    "\tif (dp[i][j][mask] != -1):\n",
    "\t\treturn dp[i][j][mask]\n",
    "\n",
    "\t# Initialize answer to 0\n",
    "\tans = 0\n",
    "\n",
    "\t# If we can still include elements in our subset\n",
    "\t# include the i'th element\n",
    "\tif (j > 0):\n",
    "\t\tans = Max_Xor(arr, i + 1, j - 1, mask ^ arr[i], n)\n",
    "\n",
    "\t# Exclude the i'th element\n",
    "\t# ans store the max of both operations\n",
    "\tans = max(ans, Max_Xor(arr, i + 1, j, mask, n))\n",
    "\tdp[i][j][mask] = ans\n",
    "\treturn ans\n",
    "\n",
    "# Driver code\n",
    "arr = [2, 5, 4, 1, 3, 7, 6, 8]\n",
    "n = len(arr)\n",
    "k = 3\n",
    "\n",
    "print(Max_Xor(arr, 0, k, 0, n))\n",
    "\n",
    "# This code is contributed by shubhamsingh10"
   ]
  },
  {
   "cell_type": "code",
   "execution_count": null,
   "metadata": {
    "pycharm": {
     "name": "#%%\n"
    }
   },
   "outputs": [],
   "source": [
    "def numPlayers(scores, k):\n",
    "    l, rank = 0,1\n",
    "    scores.sort(reverse = True)\n",
    "    for r in range(1,len(scores)):\n",
    "        if scores[r] < scores[l]:\n",
    "            rank = rank + 1\n",
    "            l = r\n",
    "            if rank > k:\n",
    "                return r\n",
    "#2\n",
    "def numPlayers(n, k):\n",
    "    levelUp = 0\n",
    "    rank = 1\n",
    "    n.sort(reverse=True)\n",
    "    base = n[0]\n",
    "    for i in n:\n",
    "        if rank <= k and base == i:\n",
    "            levelUp += 1\n",
    "            base = i\n",
    "        elif rank < k and base != i:\n",
    "            base = i\n",
    "            levelUp += 1\n",
    "            rank += 1\n",
    "    return levelUp\n",
    "print(numPlayers([5,10,25,75,75,100,100,100,200,200,200,200,200], 3))"
   ]
  },
  {
   "cell_type": "markdown",
   "metadata": {
    "pycharm": {
     "name": "#%% md\n"
    }
   },
   "source": [
    "VO"
   ]
  },
  {
   "cell_type": "code",
   "execution_count": null,
   "metadata": {
    "pycharm": {
     "name": "#%%\n"
    }
   },
   "outputs": [],
   "source": [
    "#146"
   ]
  },
  {
   "cell_type": "code",
   "execution_count": null,
   "metadata": {
    "pycharm": {
     "name": "#%%\n"
    }
   },
   "outputs": [],
   "source": [
    "#23 merge list\n",
    "# Definition for singly-linked list.\n",
    "# class ListNode:\n",
    "#     def __init__(self, x):\n",
    "#         self.val = x\n",
    "#         self.next = None\n",
    "\n",
    "class Solution:\n",
    "    def mergeKLists(self, lists: List[ListNode]) -> ListNode:\n",
    "        if not lists: return\n",
    "        if len(lists) == 1: return lists[0]\n",
    "\n",
    "        def mergeTwo(x:ListNode, y:ListNode) -> ListNode:\n",
    "            if not x: return y\n",
    "            if not y: return x\n",
    "            if x.val > y.val: x, y = y, x\n",
    "            x.next = mergeTwo(x.next, y)\n",
    "            return x\n",
    "\n",
    "        mid = len(lists) // 2 # 0123->2, 012->1\n",
    "        l = self.mergeKLists(lists[:mid])\n",
    "        r = self.mergeKLists(lists[mid:])\n",
    "        return mergeTwo(l, r)"
   ]
  },
  {
   "cell_type": "code",
   "execution_count": null,
   "metadata": {
    "pycharm": {
     "name": "#%%\n"
    }
   },
   "outputs": [],
   "source": [
    "#1152 用户网络访问\n",
    "class Solution:\n",
    "    def mostVisitedPattern(self, username: List[str], timestamp: List[int], website: List[str]) -> List[str]:\n",
    "        data = [[username[i], timestamp[i], website[i]] for i in range(len(username))]\n",
    "        data.sort()\n",
    "        d = collections.defaultdict(list)\n",
    "        for u, t, w in data:\n",
    "            d[u].append(w)\n",
    "\n",
    "        res = collections.defaultdict(set)\n",
    "        for i, v in d.items():\n",
    "            for j in itertools.combinations(v, 3):\n",
    "                res[j].add(i)\n",
    "\n",
    "        return sorted(res.items(), key=lambda a:(-len(a[1]), a[0]))[0][0]"
   ]
  },
  {
   "cell_type": "code",
   "execution_count": null,
   "metadata": {
    "pycharm": {
     "name": "#%%\n"
    }
   },
   "outputs": [],
   "source": [
    "#Hashmap, sort, maxHeap"
   ]
  }
 ],
 "metadata": {
  "kernelspec": {
   "display_name": "Python 3 (ipykernel)",
   "language": "python",
   "name": "python3"
  },
  "language_info": {
   "codemirror_mode": {
    "name": "ipython",
    "version": 3
   },
   "file_extension": ".py",
   "mimetype": "text/x-python",
   "name": "python",
   "nbconvert_exporter": "python",
   "pygments_lexer": "ipython3",
   "version": "3.9.7"
  }
 },
 "nbformat": 4,
 "nbformat_minor": 1
}
