{
  "cells": [
    {
      "cell_type": "code",
      "execution_count": null,
      "metadata": {
        "id": "2YVf9mHQQyqs"
      },
      "outputs": [],
      "source": [
        "# 连续 k 月股价不一样的和\n",
        "def stock(lst, k):\n",
        "    if len(lst) < k:\n",
        "        return 0\n",
        "    pre = [0]\n",
        "    ans = 0\n",
        "    for i, num in enumerate(lst):\n",
        "        pre.append(pre[-1] + num)\n",
        "        if i >= k - 1 and len(set(lst[i - k + 1:i + 1])) == k:\n",
        "            ans = max(ans, pre[i + 1] - pre[i + 1 - k])\n",
        "    return ans\n",
        "    \n",
        "# print(stock([1, 2, 7, 7, 4, 3, 6], 3))\n",
        "\n",
        "# 九宫格\n",
        "import collections\n",
        "import math\n",
        "def keyboard(s):\n",
        "    cnt = collections.Counter(s)\n",
        "    ans = 0\n",
        "    for i, x in enumerate(list(sorted(cnt.values(), reverse=True))):\n",
        "        ans += x * math.ceil((i + 1) / 9)\n",
        "\n",
        "    return ans\n",
        "from collections import Counter\n",
        "def minClicks(s):\n",
        "    c = list(Counter(s).items())\n",
        "    c.sort(key=lambda x: -x[1])\n",
        "    t = 1\n",
        "    ans = 0\n",
        "    for i in range(0, len(c), 9):\n",
        "        for j in range(i, min(len(c), i + 9)):\n",
        "            ans = ans + t*c[j][1]\n",
        "        t += 1\n",
        "    return ans\n",
        "    \n",
        "# print(keyboard(\"abcdefgabc\"))\n",
        "\n",
        "# s1 加多少字符可以变成 s2\n",
        "def searchword(s1, s2):\n",
        "    if not s1 and not s2:\n",
        "        return 0\n",
        "    a, b = 0, 0\n",
        "    m, n = len(s1), len(s2)\n",
        "    while a < m and b < n:\n",
        "        if s1[a] == s2[b]:\n",
        "            a += 1\n",
        "            b += 1\n",
        "        else:\n",
        "            a += 1\n",
        "    return n - b\n",
        "\n",
        "# print(searchword(\"armaze\", \"amazon\"))\n",
        "\n",
        "# 服务器移动\n",
        "def movedata(data, movefrom, moveto):\n",
        "    data = set(data)\n",
        "    for f, t in zip(movefrom, moveto):\n",
        "        data.remove(f)\n",
        "        data.add(t)\n",
        "    return sorted(list(data))\n",
        "\n",
        "# print(movedata([1, 7, 6, 8], [1, 7, 2], [2, 5, 9]))\n",
        "\n",
        "# s 里可以拼出多少个 t\n",
        "def s_to_t(s, t):\n",
        "    cnt_s = collections.Counter(s)\n",
        "    cnt_t = collections.Counter(t)\n",
        "    ans = float(\"inf\")\n",
        "    for char in cnt_t:\n",
        "        ans = min(ans, cnt_s.get(char, 0)//cnt_t[char])\n",
        "    return ans\n",
        "\n",
        "# print(s_to_t(\"mononom\", \"mon\"))\n",
        "\n",
        "# 电影分组 组内相差不大于 k 的最少组数\n",
        "def moviegroup(lst, k):\n",
        "    lst.sort()\n",
        "    cnt = 1\n",
        "    temp = lst[0]\n",
        "    for i in range(1, len(lst)):\n",
        "        if lst[i] - temp > k:\n",
        "            temp = lst[i]\n",
        "            cnt += 1\n",
        "    return cnt\n",
        "# print(moviegroup([1, 5, 4, 6, 8, 9, 2], 3))\n",
        "\n",
        "# 温度变化\n",
        "import itertools\n",
        "def tempchange(nums):\n",
        "    lst = [0] + list(itertools.accumulate(nums))\n",
        "    ans = 0\n",
        "    for i in range(1, len(lst)):\n",
        "        ans = max(ans, lst[i], lst[-1] - lst[i-1])\n",
        "    return ans\n",
        "    \n",
        "# print(tempchange([6, -2, 5]))\n",
        "\n",
        "# min net stock, 前 i 个月和后 n - i 个月平均值最小的下标\n",
        "def netstockchange(nums):\n",
        "    lst = list(itertools.accumulate(nums))\n",
        "    ans = float(\"inf\")\n",
        "    res = 0\n",
        "    n = len(lst)\n",
        "    for i in range(len(lst)-1):\n",
        "        diff = abs(lst[i] // (i + 1) - (lst[-1] - lst[i]) // (n - 1 - i))\n",
        "        if diff < ans:\n",
        "            ans = diff\n",
        "            res = i\n",
        "    return res + 1\n",
        "\n",
        "# print(netstockchange([1, 3, 2, 3]))\n",
        "\n",
        "# 去掉 k 个连续数后剩下最小和\n",
        "def minsum(nums, k):\n",
        "    lst = [0] + list(itertools.accumulate(nums))\n",
        "    total = lst[-1]\n",
        "    ans = total\n",
        "    for i in range(k, len(lst)):\n",
        "        ans = min(ans, total - (lst[i] - lst[i-k]))\n",
        "    return ans\n",
        "    \n",
        "# print(minsum([7, 3, 6, 1], 2))\n",
        "\n",
        "# 数组相邻数字之差不能大于 1，求调整后最大值\n",
        "def maxafterreduce(nums):\n",
        "    # 1\n",
        "    # nums.sort()\n",
        "    # nums[0] = 1\n",
        "    # for i in range(1, len(nums)):\n",
        "    #     if nums[i] > nums[i - 1] + 1:\n",
        "    #         nums[i] = nums[i - 1] + 1\n",
        "    # return nums[-1]\n",
        "    # 2\n",
        "    n = len(nums)\n",
        "    cnt = [0] * (n + 1)\n",
        "    for num in nums:\n",
        "        cnt[min(num, n)] += 1\n",
        "    miss = 0\n",
        "    for i in range(1, n + 1):\n",
        "        if cnt[i] == 0:\n",
        "            miss += 1\n",
        "        else:\n",
        "            miss -= min(miss, cnt[i] - 1)\n",
        "    return n - miss"
      ]
    },
    {
      "cell_type": "code",
      "execution_count": null,
      "metadata": {
        "id": "0zqUYAlfNXjF"
      },
      "outputs": [],
      "source": [
        "# 子数组 max - min 的和\n",
        "def subArrayRanges(self, nums: List[int]) -> int:\n",
        "    res, stack = 0, []\n",
        "    for j, x in enumerate(nums+[float('inf')]):\n",
        "        while stack and nums[stack[-1]]<x:\n",
        "            i = stack.pop()\n",
        "            left = stack[-1] if stack else -1\n",
        "            res += (i-left)*(j-i)*nums[i]\n",
        "        stack.append(j)\n",
        "    stack = []\n",
        "    for j, x in enumerate(nums+[float('-inf')]):\n",
        "        while stack and nums[stack[-1]]>x:\n",
        "            i = stack.pop()\n",
        "            left = stack[-1] if stack else -1\n",
        "            res -= (i-left)*(j-i)*nums[i]\n",
        "        stack.append(j)\n",
        "    return res\n",
        "    \n",
        "long long subArrayRanges(vector<int>& nums) {\n",
        "    long long res = 0;\n",
        "    for (int i = 0; i < nums.size(); ++i)\n",
        "    {\n",
        "        int minN = nums[i];\n",
        "        int maxN = nums[i];\n",
        "        for (int j = i + 1; j < nums.size(); ++j)\n",
        "        {\n",
        "            maxN = max(maxN, nums[j]);\n",
        "            minN = min(minN, nums[j]);\n",
        "            res += (maxN - minN);\n",
        "        }\n",
        "    }\n",
        "    return res;\n",
        "}"
      ]
    },
    {
      "cell_type": "code",
      "execution_count": null,
      "metadata": {
        "colab": {
          "base_uri": "https://localhost:8080/"
        },
        "id": "cbRannQaQ9-m",
        "outputId": "6aeccbbd-03da-4acd-ad62-fe5b8587d166"
      },
      "outputs": [
        {
          "name": "stdout",
          "output_type": "stream",
          "text": [
            "3\n"
          ]
        }
      ],
      "source": [
        "def mergeintervals(lst):\n",
        "  lst.sort()\n",
        "  ans = []\n",
        "  cnt = 0\n",
        "  for l, r in lst:\n",
        "    if not ans or ans[1] <= l:\n",
        "      ans = [l, r]\n",
        "    else:\n",
        "      ans[1] = max(ans[1], r)\n",
        "      cnt += 1\n",
        "  return cnt\n",
        "\n",
        "print(mergeintervals([[1, 2], [2, 3], [4, 6], [1, 5]]))"
      ]
    },
    {
      "cell_type": "code",
      "execution_count": null,
      "metadata": {
        "colab": {
          "base_uri": "https://localhost:8080/"
        },
        "id": "Gt4XyrMhcyWU",
        "outputId": "a6ba69e9-c215-4fc9-b2e9-66fd9f08cb28"
      },
      "outputs": [
        {
          "name": "stdout",
          "output_type": "stream",
          "text": [
            "10\n"
          ]
        }
      ],
      "source": [
        "def minimumhealth(nums, k):\n",
        "  total = sum(nums)\n",
        "  mx = max(nums)\n",
        "  return total - min(mx, k) + 1\n",
        "\n",
        "print(minimumhealth([2, 5, 3, 4], 7))"
      ]
    },
    {
      "cell_type": "code",
      "execution_count": null,
      "metadata": {
        "colab": {
          "base_uri": "https://localhost:8080/"
        },
        "id": "w3OXzQxXkZHU",
        "outputId": "1ea2ec52-89c1-4889-a25a-f00c0f4ee49f"
      },
      "outputs": [
        {
          "name": "stdout",
          "output_type": "stream",
          "text": [
            "1\n"
          ]
        }
      ],
      "source": [
        "# 含有 k 个奇数的子数组的个数\n",
        "def countSubarrays(a, m):\n",
        "    n = len(a)\n",
        "    count = 0\n",
        "    prefix = [0] * (n+1)\n",
        "    odd = 0\n",
        " \n",
        "    # traverse in the array\n",
        "    for i in range(n):\n",
        "        prefix[odd] += 1\n",
        " \n",
        "        # if array element is odd\n",
        "        if (a[i] & 1):\n",
        "            odd += 1\n",
        " \n",
        "        # when number of odd elements>=M\n",
        "        if (odd >= m):\n",
        "            count += prefix[odd - m]\n",
        " \n",
        "    return count\n",
        "\n",
        "def distinctSubarrays(self, nums, k):\n",
        "    odd = []\n",
        "    m = len(nums)    \n",
        "    for i, n in enumerate(nums):\n",
        "        if n % 2:\n",
        "            odd.append(i)\n",
        "    res = 0\n",
        "\n",
        "    for i in range(len(odd) - k + 1):\n",
        "        left = odd[i]\n",
        "        right = odd[i + k - 1]\n",
        "        \n",
        "        # find how many numbers on the left of left before another odd number\n",
        "        if i == 0:\n",
        "            left_len = left + 1\n",
        "        else:\n",
        "            left_len = odd[i] - odd[i - 1]\n",
        "            \n",
        "        # find how many numbers on the right of right before another odd number\n",
        "        if i == len(odd) - k:\n",
        "            right_len = m - right\n",
        "        else:\n",
        "            right_len = odd[i + k] - right\n",
        "        \n",
        "        # print(left, right, left_len, right_len)\n",
        "        res += left_len * right_len\n",
        "        \n",
        "    return res\n"
      ]
    },
    {
      "cell_type": "code",
      "execution_count": null,
      "metadata": {
        "colab": {
          "base_uri": "https://localhost:8080/"
        },
        "id": "kuo17krN-ZgS",
        "outputId": "801dcd1f-0322-45b8-faad-6e39c0415482"
      },
      "outputs": [
        {
          "name": "stdout",
          "output_type": "stream",
          "text": [
            "3\n"
          ]
        }
      ],
      "source": [
        "# suffix 和 原字符串的 common prefix 的长度\n",
        "def commonprefix(lst):\n",
        "  ans = 0\n",
        "  n = len(lst)\n",
        "  for i in range(n - 1):\n",
        "    for j in range(i + 1, n):\n",
        "      if lst[j] == lst[j - i - 1]:\n",
        "        ans += 1\n",
        "      else:\n",
        "        break\n",
        "  return ans\n",
        "\n",
        "print(commonprefix(\"abcabcd\"))"
      ]
    },
    {
      "cell_type": "code",
      "execution_count": null,
      "metadata": {
        "colab": {
          "base_uri": "https://localhost:8080/"
        },
        "id": "OzdyzEtTEz3o",
        "outputId": "8cfecf97-542e-44b0-e557-0d4e36edab68"
      },
      "outputs": [
        {
          "name": "stdout",
          "output_type": "stream",
          "text": [
            "14\n"
          ]
        }
      ],
      "source": [
        "# 长度为 k 的没有重复数字的子数组的最大和\n",
        "def maximumkarray(nums, k):\n",
        "  n = len(nums)\n",
        "  if n < k:\n",
        "    return -1\n",
        "  \n",
        "  cnt = {}\n",
        "  ans = -1\n",
        "  l = 0\n",
        "  total = 0\n",
        "  for r in range(n):\n",
        "    cnt[nums[r]] = cnt.get(nums[r], 0) + 1\n",
        "    total += nums[r]\n",
        "    while cnt[nums[r]] > 1:\n",
        "      cnt[nums[l]] = cnt[nums[l]] - 1\n",
        "      total -= nums[l]\n",
        "      l += 1\n",
        "    if r - l + 1 == k:\n",
        "      ans = max(ans, total)\n",
        "      cnt[nums[l]] = cnt[nums[l]] - 1\n",
        "      total -= nums[l]\n",
        "      l += 1\n",
        "  return ans\n",
        "\n",
        "print(maximumkarray([1,2,7,7,4,3,6], 3))   "
      ]
    },
    {
      "cell_type": "code",
      "execution_count": null,
      "metadata": {
        "colab": {
          "base_uri": "https://localhost:8080/"
        },
        "id": "rpwWTvXYOI-F",
        "outputId": "faafb655-6a2e-4cf9-b722-8043b0fa0ce4"
      },
      "outputs": [
        {
          "name": "stdout",
          "output_type": "stream",
          "text": [
            "[4, 5]\n"
          ]
        }
      ],
      "source": [
        "# 把 k 个 0 变成 1 后最长的 1\n",
        "# 返回 k 个 0 的index\n",
        "def find_zeros_to_flip_maximize_ones(nums, k):\n",
        "    st = 0\n",
        "    global_indices = []\n",
        "    cur_indices = []\n",
        "    max_length = 0\n",
        "    for i in range(len(nums)):\n",
        "        if nums[i] != 1:\n",
        "            cur_indices.append(i)\n",
        "            while len(cur_indices) > k:\n",
        "                if nums[st] == 0:\n",
        "                    cur_indices.remove(st)\n",
        "                st += 1\n",
        "        if max_length < i - st + 1:\n",
        "            max_length = i - st + 1\n",
        "            global_indices = [*cur_indices]\n",
        "    return global_indices\n",
        "print(find_zeros_to_flip_maximize_ones([0, 1, 0, 1, 0, 0, 1, 1], 2))"
      ]
    },
    {
      "cell_type": "code",
      "execution_count": null,
      "metadata": {
        "colab": {
          "base_uri": "https://localhost:8080/"
        },
        "id": "Rz9xsWu1QUFQ",
        "outputId": "ccc27236-50a4-4211-d061-968899b13df5"
      },
      "outputs": [
        {
          "name": "stdout",
          "output_type": "stream",
          "text": [
            "6\n"
          ]
        }
      ],
      "source": [
        "# 101 010 的数量\n",
        "def numberOfWays(self, s: str) -> int:\n",
        "        if len(s) <= 2:\n",
        "            return 0\n",
        "        \n",
        "        n = len(s)\n",
        "        pre, suf = [0] * n, [0] * n\n",
        "        for i in range(n):\n",
        "            pre[i] = pre[i - 1] + int(s[i])\n",
        "            \n",
        "        ans = 0\n",
        "        for i in range(1, n - 1):\n",
        "            if s[i] == \"0\":\n",
        "                ans += pre[i - 1] * (pre[-1] - pre[i])\n",
        "            else:\n",
        "                ans += (i - pre[i - 1]) * ((n - i - 1) - (pre[-1] - pre[i]))\n",
        "def planof101and010(nums):\n",
        "  n = len(nums)\n",
        "  nums = list(map(int, nums))\n",
        "  pre = list(itertools.accumulate(nums))\n",
        "  suf = list(itertools.accumulate(nums[::-1]))[::-1]\n",
        "  ans = 0\n",
        "  for i in range(n):\n",
        "    if nums[i] == 0:\n",
        "      ans += pre[i] * suf[i]\n",
        "    else:\n",
        "      ans += (i - pre[i] + 1) * (n - i - suf[i])\n",
        "  return ans\n",
        "\n",
        "print(planof101and010(\"001101\"))"
      ]
    },
    {
      "cell_type": "code",
      "execution_count": null,
      "metadata": {
        "colab": {
          "base_uri": "https://localhost:8080/"
        },
        "id": "5X8c0siCUD_a",
        "outputId": "92d2ebea-8367-42f7-d6b0-e4f6ed376304"
      },
      "outputs": [
        {
          "name": "stdout",
          "output_type": "stream",
          "text": [
            "[2, 0, 2]\n"
          ]
        }
      ],
      "source": [
        "# 四个，两个轮子的方案数\n",
        "def wheels(nums):\n",
        "  ans = []\n",
        "  for num in nums:\n",
        "    if num % 2 == 1:\n",
        "      ans.append(0)\n",
        "    else:\n",
        "      ans.append(num // 4 * 2)\n",
        "  return ans\n",
        "\n",
        "print(wheels([4, 5, 6]))"
      ]
    },
    {
      "cell_type": "code",
      "execution_count": null,
      "metadata": {
        "colab": {
          "base_uri": "https://localhost:8080/"
        },
        "id": "eoHDip-VrNKW",
        "outputId": "dc58fb0c-a214-4d0e-db1a-2d7f86e10bd2"
      },
      "outputs": [
        {
          "name": "stdout",
          "output_type": "stream",
          "text": [
            "17\n"
          ]
        }
      ],
      "source": [
        "# 运 k 个包裹的最小成本\n",
        "def minimalKSum(nums, k):\n",
        "      k -= len(nums)\n",
        "      cur = 0\n",
        "      nums = sorted(list(set(nums)))\n",
        "      for num in nums:\n",
        "          if num <= k:\n",
        "              cur += num\n",
        "              k += 1\n",
        "          else:\n",
        "              break\n",
        "      return (1 + k) * k // 2 - cur\n",
        "print(minimalKSum([2, 3, 6, 10, 11], 9))"
      ]
    },
    {
      "cell_type": "code",
      "execution_count": null,
      "metadata": {
        "colab": {
          "base_uri": "https://localhost:8080/"
        },
        "id": "8hcbIsCPd_X1",
        "outputId": "ef5a6800-b197-47a4-d68f-7e60d9732972"
      },
      "outputs": [
        {
          "name": "stdout",
          "output_type": "stream",
          "text": [
            "4\n"
          ]
        }
      ],
      "source": [
        "import collections\n",
        "import math\n",
        "# 一次送两个或者三个包裹\n",
        "def optimizedelivery(nums):\n",
        "  if len(nums) < 2:\n",
        "    return -len(nums)\n",
        "  \n",
        "  cnt = collections.Counter(nums)\n",
        "  ans = 0\n",
        "  for v in cnt.values():\n",
        "    if v == 1:\n",
        "      return -1\n",
        "    ans += math.ceil(v / 3)\n",
        "  return ans\n",
        "\n",
        "print(optimizedelivery([2,2,3,3,2,4,4,4,4,4]))\n",
        "  \n"
      ]
    },
    {
      "cell_type": "code",
      "execution_count": null,
      "metadata": {
        "colab": {
          "base_uri": "https://localhost:8080/"
        },
        "id": "AtY97R5MiPTv",
        "outputId": "6fb647d4-c905-4171-d7b9-bc7f9a030d9a"
      },
      "outputs": [
        {
          "name": "stdout",
          "output_type": "stream",
          "text": [
            "21\n"
          ]
        }
      ],
      "source": [
        "# 合并包裹求合并后最大的包裹\n",
        "def mergepackage(nums):\n",
        "  ans = -float(\"inf\")\n",
        "  temp = nums[-1]\n",
        "  for i in range(len(nums) - 2, -1, -1):\n",
        "    if nums[i] < temp:\n",
        "      temp += nums[i]\n",
        "      ans = max(ans, temp)\n",
        "    else:\n",
        "      temp = nums[i]\n",
        "  return temp\n",
        "\n",
        "print(mergepackage([2, 9, 10, 3, 7]))"
      ]
    },
    {
      "cell_type": "code",
      "execution_count": null,
      "metadata": {
        "id": "Kr_L7-nYjIBV"
      },
      "outputs": [],
      "source": [
        "# sum of power of subarrays\n",
        "private long optimalScoresOfSubArrays(int[] arr)\n",
        "    {\n",
        "        int n = arr.length;\n",
        "        Stack<Integer> stack = new Stack();\n",
        "        long ans = 0;\n",
        "        long[] sum = new long[n+1], sum1 = new long[n+1];//prefix sum and suffix sum\n",
        "        long[] prefix = new long[n+1], suffix = new long[n+1];//prefix sum of prefixsum and suffix sum of suffixsum\n",
        "        int mod = 1_000_000_007;\n",
        "        for(int i = 0; i < n; i++)\n",
        "        {\n",
        "            sum[i+1] = (sum[i]+arr[i])%mod;\n",
        "            prefix[i+1] = (prefix[i]+sum[i+1])%mod;\n",
        "        }\n",
        "        for(int i = n-1; i >= 0; i--)\n",
        "        {\n",
        "            sum1[i] = (sum1[i+1]+arr[i])%mod;\n",
        "            suffix[i] = (suffix[i+1]+sum1[i])%mod;\n",
        "        }\n",
        "        \n",
        "        for(int i = 0; i < n; i++)\n",
        "        {\n",
        "            while(!stack.isEmpty() && arr[stack.peek()] >= arr[i])\n",
        "            {\n",
        "                int cur =  stack.pop();\n",
        "                int prev = stack.isEmpty() ? -1 : stack.peek();\n",
        "                int next = i;\n",
        "                //the commented lines shows how the left sum and right sum are calculated\n",
        "                //Maybe a little hard to understand but the idea is similar\n",
        "                //long lsum = suffix[prev+1]-suffix[cur]-sum1[cur]*(cur-prev-1)%mod;\n",
        "                //long rsum = prefix[next]-prefix[cur+1]-sum[cur+1]*(next-cur-1)%mod;\n",
        "                //below I takes modulo everytime there is multiplication and addition to avoid overflow in java\n",
        "                long lsum = (mod+suffix[prev+1]-(suffix[cur]+sum1[cur]*(cur-prev-1)%mod)%mod)%mod;\n",
        "                long rsum = (mod+prefix[next]-(prefix[cur+1]+sum[cur+1]*(next-cur-1)%mod)%mod)%mod;\n",
        "                long self = ((long)arr[cur]*(next-cur)%mod)*(cur-prev)%mod;\n",
        "                long curres = (long)arr[cur]*((rsum*(cur-prev)%mod+lsum*(next-cur)%mod+self)%mod)%mod;\n",
        "                ans =(ans+curres)%mod;\n",
        "            }\n",
        "            stack.push(i);\n",
        "        }\n",
        "        while(!stack.isEmpty())//do the same thing for the remaining numbers\n",
        "        {\n",
        "            int cur = stack.pop();\n",
        "            int prev = stack.isEmpty() ? -1 : stack.peek();\n",
        "            int next = n;\n",
        "            //comments are the same as previously\n",
        "            long lsum = (mod+suffix[prev+1]-(suffix[cur]+sum1[cur]*(cur-prev-1))%mod)%mod;\n",
        "            long rsum = (mod+prefix[next]-(prefix[cur+1]+sum[cur+1]*(next-cur-1))%mod)%mod;\n",
        "            long self = ((long)arr[cur]*(next-cur)%mod)*(cur-prev)%mod;\n",
        "            long curres = (long)arr[cur]*((rsum*(cur-prev)%mod+lsum*(next-cur)%mod+self)%mod)%mod;\n",
        "            ans =(ans+curres)%mod;\n",
        "        }\n",
        "        return ans;\n",
        "    }"
      ]
    },
    {
      "cell_type": "code",
      "execution_count": null,
      "metadata": {
        "id": "kGfKDHYOlDkO"
      },
      "outputs": [],
      "source": [
        "# 最大的 processor cluster\n",
        "int findMaximumSustainableClusterSize(vector<int> processingPower, vector<int> bootingPower, long powerMax){\n",
        "    int n = processingPower.size();\n",
        "    int i = 0;\n",
        "    int j = 0;\n",
        "    \n",
        "    deque<vector<int>> q;\n",
        "    long sum = 0;\n",
        "    int ans = 0;\n",
        "    while(j < n){\n",
        "        sum += processingPower[j];\n",
        "        while(!q.empty() && q.back()[0] <= bootingPower[j]){\n",
        "            q.pop_back();\n",
        "        }\n",
        "        q.push_back({bootingPower[j], j});\n",
        "        \n",
        "        while(i <= j and q.front()[0] + sum*(j-i+1) > powerMax){\n",
        "            if (q.front()[1] == i){\n",
        "                q.pop_front();\n",
        "            }\n",
        "            sum -= processingPower[i];\n",
        "            i++;\n",
        "        }\n",
        "        ans = max(ans, j-i+1);\n",
        "        j++;\n",
        "        \n",
        "    }\n",
        "    \n",
        "    return ans;\n",
        "}"
      ]
    },
    {
      "cell_type": "code",
      "execution_count": null,
      "metadata": {
        "id": "WSIHJSgySuoh"
      },
      "outputs": [],
      "source": [
        "# 密码强度\n",
        "def password(s):\n",
        "  ans = 0\n",
        "  n = len(s)\n",
        "  yuan = {\"a\", \"e\", \"i\", \"o\", \"u\"}\n",
        "  isyuan, isfu = False, False\n",
        "  for c in s:\n",
        "    if c in yuan:\n",
        "      isyuan = True\n",
        "    else:\n",
        "      isfu = True\n",
        "    if isyuan and isfu:\n",
        "      ans += 1\n",
        "      isyuan, isfu = False, False\n",
        "  return ans\n",
        "\n",
        "print(password(\"thisisbeautiful\"))"
      ]
    },
    {
      "cell_type": "code",
      "execution_count": null,
      "metadata": {
        "id": "olPXBiZNVF5_"
      },
      "outputs": [],
      "source": [
        "# 两个 list 里找到数字和最接近 k 的对应 id\n",
        "def find_element(nums, target):\n",
        "    length = len(nums)\n",
        "    st = 0\n",
        "    ed = length-1\n",
        "    while st < ed:\n",
        "        mid = (st + ed + 1) // 2\n",
        "        if nums[mid][1] > target:\n",
        "            ed = mid - 1\n",
        "        else:\n",
        "            st = mid\n",
        "    return nums[st]\n",
        "\n",
        "def UptimalUtilization(a, b, target):\n",
        "    a.sort(key=lambda x:x[1])\n",
        "    b.sort(key=lambda x:x[1])\n",
        "    len1 = len(a)\n",
        "    len2 = len(b)\n",
        "    curval = 0\n",
        "    res = []\n",
        "    for idx1, num1 in a:\n",
        "        idx2, num2 = find_element(b,target-num1)\n",
        "        if num1 + num2 <= target:\n",
        "            print(num1+num2)\n",
        "            if curval < num1 + num2:\n",
        "                curval = num1 + num2\n",
        "                res = [[idx1, idx2]]\n",
        "            elif curval == num1 + num2:\n",
        "                res.append([idx1, idx2])\n",
        "    return res"
      ]
    },
    {
      "cell_type": "code",
      "execution_count": null,
      "metadata": {
        "colab": {
          "base_uri": "https://localhost:8080/"
        },
        "id": "FqEQEaB8m5mg",
        "outputId": "ebd7e37d-de1e-4b2b-8538-24032ab030c9"
      },
      "outputs": [
        {
          "name": "stdout",
          "output_type": "stream",
          "text": [
            "3\n"
          ]
        }
      ],
      "source": [
        "# 交换 0， 1 最少多少步使数组有序\n",
        "def minMoves(arr):\n",
        "  count1 = 0\n",
        "  dis = 0 \n",
        "  for num in arr:\n",
        "      if num ==1:\n",
        "          count1+=1\n",
        "      if num==0:\n",
        "          dis+=count1\n",
        "          \n",
        "  count0 = len(arr) - count1\n",
        "  rev_dis = count1 * count0 - dis\n",
        "  return min(dis, rev_dis)"
      ]
    },
    {
      "cell_type": "code",
      "execution_count": null,
      "metadata": {
        "id": "9Si6xq7Ixxbu"
      },
      "outputs": [],
      "source": [
        "# 第 k 个因数\n",
        "def kthFactor(self, n: int, k: int) -> int:\n",
        "        count = 0\n",
        "        factor = 1\n",
        "        while factor * factor <= n:\n",
        "            if n % factor == 0:\n",
        "                count += 1\n",
        "                if count == k:\n",
        "                    return factor\n",
        "            factor += 1\n",
        "        factor -= 1\n",
        "        if factor * factor == n:\n",
        "            factor -= 1\n",
        "        while factor > 0:\n",
        "            if n % factor == 0:\n",
        "                count += 1\n",
        "                if count == k:\n",
        "                    return n // factor\n",
        "            factor -= 1\n",
        "        return -1"
      ]
    },
    {
      "cell_type": "code",
      "execution_count": null,
      "metadata": {
        "colab": {
          "base_uri": "https://localhost:8080/"
        },
        "id": "dyOvvNuS0duQ",
        "outputId": "aad8f668-7c9a-4177-fd48-d3e30c3e29c7"
      },
      "outputs": [
        {
          "name": "stdout",
          "output_type": "stream",
          "text": [
            "1\n"
          ]
        }
      ],
      "source": [
        "# 组成多少个az\n",
        "def numberofaz(nums):\n",
        "  cnta, cntz = 0, 0\n",
        "  ans = 0\n",
        "  for c in nums:\n",
        "    if c == \"A\":\n",
        "      cnta += 1\n",
        "    if c == \"Z\":\n",
        "      ans += cnta\n",
        "      cntz += 1\n",
        "  return max(cnta, cntz) + ans\n",
        "print(numberofaz(\"A\"))"
      ]
    },
    {
      "cell_type": "code",
      "execution_count": null,
      "metadata": {
        "id": "kTEWV5wRYG_T"
      },
      "outputs": [],
      "source": [
        "# 学生排队 imbalance rate\n",
        "O(N) monotonic-stack\n",
        "\n",
        "    public int imbalanceCount(int[] nums) {\n",
        "        int n = nums.length;\n",
        "        int[] indexArr = new int[n + 1];\n",
        "        for (int i = 0; i < n; i++) {\n",
        "            indexArr[nums[i]] = i;\n",
        "        }\n",
        "        int[] left = new int[n], right = new int[n];\n",
        "        int[] maxStack = new int[n]; // monotonic-stack\n",
        "        int index = -1;\n",
        "        for (int i = 0; i < n; i++) {\n",
        "            while (index >= 0 && nums[maxStack[index]] < nums[i]) {\n",
        "                index--;\n",
        "            }\n",
        "            left[i] = index < 0 ? -1 : maxStack[index];\n",
        "            maxStack[++index] = i;\n",
        "        }\n",
        "        index = -1;\n",
        "        for (int i = n - 1; i >= 0; i--) {\n",
        "            while (index >= 0 && nums[maxStack[index]] < nums[i]) {\n",
        "                index--;\n",
        "            }\n",
        "            right[i] = index < 0 ? n : maxStack[index];\n",
        "            maxStack[++index] = i;\n",
        "        }\n",
        "        int count = 0; \n",
        "        for (int i = 0; i < n; i++) {\n",
        "            if (nums[i] < n - 1) {\n",
        "                int addOneIdx = indexArr[nums[i] + 1]; \n",
        "                if (addOneIdx > i) {\n",
        "                    count += (i + 1) * (addOneIdx - right[i]);\n",
        "                    if (left[i] >= 0) {\n",
        "                        count += (left[i] + 1) * (right[i] - i); \n",
        "                    }\n",
        "                } else { \n",
        "                    count += (left[i] - addOneIdx) * (n - i);\n",
        "                    if (right[i] < n) {\n",
        "                        count += (i - left[i]) * (n - right[i]);\n",
        "                    }\n",
        "                }\n",
        "            }\n",
        "        }\n",
        "        return count;\n",
        "    }\n",
        "# 学生排队\n",
        "def find_imbalances(rank):\n",
        "    count = 0\n",
        "    s = set()\n",
        "    for i in range(len(rank)):\n",
        "        s.clear()\n",
        "        max = rank[i]\n",
        "        min = rank[i]\n",
        "        s.add(rank[i])\n",
        "        for j in range(i+1, len(rank)):\n",
        "            if rank[j] - 1 in s and rank[j] + 1 in s:\n",
        "                pass\n",
        "            elif min > rank[j] and rank[j] + 1 in s:\n",
        "                min = rank[j]\n",
        "            elif max < rank[j] and rank[j] - 1 in s:\n",
        "                max = rank[j]\n",
        "            elif min > rank[j]:\n",
        "                min = rank[j]\n",
        "                count += 1\n",
        "            elif max < rank[j]:\n",
        "                max = rank[j]\n",
        "                count += 1\n",
        "            elif rank[j] - 1 in s or rank[j] + 1 in s:\n",
        "                count += 1\n",
        "            else:\n",
        "                count += 2\n",
        "            s.add(rank[j])\n",
        "            print(count, s)\n",
        "    return count"
      ]
    },
    {
      "cell_type": "code",
      "execution_count": null,
      "metadata": {
        "id": "xtxEOLPg69Nu"
      },
      "outputs": [],
      "source": [
        "# harry potter 求几轮得到原来字符串\n",
        "public int minTurns(int m, int n, String s) {\n",
        " int ans = 0;\n",
        " int startIndex = 0;\n",
        " int total = s.length();\n",
        " while(startIndex!=0 || ans==0) {\n",
        "  startIndex-=m;\n",
        "  if(startIndex<0) startIndex+=total;\n",
        "  ans++;\n",
        "  if(startIndex==0) break;\n",
        "  startIndex-=n;\n",
        "  if(startIndex<0) startIndex+=total;\n",
        "  ans++;\n",
        " }\n",
        " return ans;\n",
        "}\n",
        "(M+N)x= Ly or (M+N)x+M=Ly\n",
        "x = y / gcd(m + n, y)\n",
        "int Max_Com_Divisor(int x, int y)//用更相减损法求最大公约数\n",
        "{\n",
        "    while (1)//用大数减去小数并将结果保存起来\n",
        "    {\n",
        "        if (x > y)\n",
        "        {\n",
        "            x -= y;\n",
        "        }\n",
        "        else if(x < y)\n",
        "        {\n",
        "            y -= x;\n",
        "        }\n",
        "        else//如果两个数相等时，则这个数就是最大公约数\n",
        "        {\n",
        "            return x;\n",
        "        }\n",
        "    }\n",
        "}"
      ]
    },
    {
      "cell_type": "code",
      "execution_count": null,
      "metadata": {
        "colab": {
          "base_uri": "https://localhost:8080/"
        },
        "id": "yO8gpyxAdKKs",
        "outputId": "39164a1f-f370-4f15-bb7d-bf529e0aee8d"
      },
      "outputs": [
        {
          "name": "stdout",
          "output_type": "stream",
          "text": [
            "[[[1, 5, 9], [6, 7, 2], [8, 3, 4]], [[1, 5, 9], [8, 3, 4], [6, 7, 2]], [[1, 6, 8], [5, 7, 3], [9, 2, 4]], [[1, 6, 8], [9, 2, 4], [5, 7, 3]], [[1, 8, 6], [5, 3, 7], [9, 4, 2]], [[1, 8, 6], [9, 4, 2], [5, 3, 7]], [[1, 9, 5], [6, 2, 7], [8, 4, 3]], [[1, 9, 5], [8, 4, 3], [6, 2, 7]], [[2, 4, 9], [6, 8, 1], [7, 3, 5]], [[2, 4, 9], [7, 3, 5], [6, 8, 1]], [[2, 6, 7], [4, 8, 3], [9, 1, 5]], [[2, 6, 7], [9, 1, 5], [4, 8, 3]], [[2, 7, 6], [4, 3, 8], [9, 5, 1]], [[2, 7, 6], [9, 5, 1], [4, 3, 8]], [[2, 9, 4], [6, 1, 8], [7, 5, 3]], [[2, 9, 4], [7, 5, 3], [6, 1, 8]], [[3, 4, 8], [5, 9, 1], [7, 2, 6]], [[3, 4, 8], [7, 2, 6], [5, 9, 1]], [[3, 5, 7], [4, 9, 2], [8, 1, 6]], [[3, 5, 7], [8, 1, 6], [4, 9, 2]], [[3, 7, 5], [4, 2, 9], [8, 6, 1]], [[3, 7, 5], [8, 6, 1], [4, 2, 9]], [[3, 8, 4], [5, 1, 9], [7, 6, 2]], [[3, 8, 4], [7, 6, 2], [5, 1, 9]], [[4, 2, 9], [3, 7, 5], [8, 6, 1]], [[4, 2, 9], [8, 6, 1], [3, 7, 5]], [[4, 3, 8], [2, 7, 6], [9, 5, 1]], [[4, 3, 8], [9, 5, 1], [2, 7, 6]], [[4, 8, 3], [2, 6, 7], [9, 1, 5]], [[4, 8, 3], [9, 1, 5], [2, 6, 7]], [[4, 9, 2], [3, 5, 7], [8, 1, 6]], [[4, 9, 2], [8, 1, 6], [3, 5, 7]], [[5, 1, 9], [3, 8, 4], [7, 6, 2]], [[5, 1, 9], [7, 6, 2], [3, 8, 4]], [[5, 3, 7], [1, 8, 6], [9, 4, 2]], [[5, 3, 7], [9, 4, 2], [1, 8, 6]], [[5, 7, 3], [1, 6, 8], [9, 2, 4]], [[5, 7, 3], [9, 2, 4], [1, 6, 8]], [[5, 9, 1], [3, 4, 8], [7, 2, 6]], [[5, 9, 1], [7, 2, 6], [3, 4, 8]], [[6, 1, 8], [2, 9, 4], [7, 5, 3]], [[6, 1, 8], [7, 5, 3], [2, 9, 4]], [[6, 2, 7], [1, 9, 5], [8, 4, 3]], [[6, 2, 7], [8, 4, 3], [1, 9, 5]], [[6, 7, 2], [1, 5, 9], [8, 3, 4]], [[6, 7, 2], [8, 3, 4], [1, 5, 9]], [[6, 8, 1], [2, 4, 9], [7, 3, 5]], [[6, 8, 1], [7, 3, 5], [2, 4, 9]], [[7, 2, 6], [3, 4, 8], [5, 9, 1]], [[7, 2, 6], [5, 9, 1], [3, 4, 8]], [[7, 3, 5], [2, 4, 9], [6, 8, 1]], [[7, 3, 5], [6, 8, 1], [2, 4, 9]], [[7, 5, 3], [2, 9, 4], [6, 1, 8]], [[7, 5, 3], [6, 1, 8], [2, 9, 4]], [[7, 6, 2], [3, 8, 4], [5, 1, 9]], [[7, 6, 2], [5, 1, 9], [3, 8, 4]], [[8, 1, 6], [3, 5, 7], [4, 9, 2]], [[8, 1, 6], [4, 9, 2], [3, 5, 7]], [[8, 3, 4], [1, 5, 9], [6, 7, 2]], [[8, 3, 4], [6, 7, 2], [1, 5, 9]], [[8, 4, 3], [1, 9, 5], [6, 2, 7]], [[8, 4, 3], [6, 2, 7], [1, 9, 5]], [[8, 6, 1], [3, 7, 5], [4, 2, 9]], [[8, 6, 1], [4, 2, 9], [3, 7, 5]], [[9, 1, 5], [2, 6, 7], [4, 8, 3]], [[9, 1, 5], [4, 8, 3], [2, 6, 7]], [[9, 2, 4], [1, 6, 8], [5, 7, 3]], [[9, 2, 4], [5, 7, 3], [1, 6, 8]], [[9, 4, 2], [1, 8, 6], [5, 3, 7]], [[9, 4, 2], [5, 3, 7], [1, 8, 6]], [[9, 5, 1], [2, 7, 6], [4, 3, 8]], [[9, 5, 1], [4, 3, 8], [2, 7, 6]]]\n"
          ]
        }
      ],
      "source": [
        "def comb():\n",
        "    ans = []\n",
        "    visited = [False] * 9\n",
        "    def dfs(temp, i):\n",
        "        if i == 9:\n",
        "            # print(temp)\n",
        "            for r in range(3):\n",
        "                if sum(temp[r * 3:(r + 1) * 3]) != 15:\n",
        "                    return\n",
        "            for c in range(3):\n",
        "                if sum([temp[x + c] for x in [0, 3, 6]]) != 15:\n",
        "                    return\n",
        "            tt = []\n",
        "            for r in range(3):\n",
        "                tt.append(temp[r * 3: (r + 1) * 3])\n",
        "            ans.append(tt)\n",
        "            return \n",
        "        for idx in range(i, 9):\n",
        "            for num in range(1, 10):\n",
        "                if visited[num - 1]:\n",
        "                    continue\n",
        "                visited[num - 1] = True\n",
        "                temp.append(num)\n",
        "                dfs(temp, idx + 1)\n",
        "                temp.pop()\n",
        "                visited[num - 1] = False\n",
        "    dfs([], 0)\n",
        "    return ans\n",
        "    \n",
        "print(comb())"
      ]
    },
    {
      "cell_type": "code",
      "execution_count": null,
      "metadata": {
        "colab": {
          "base_uri": "https://localhost:8080/"
        },
        "id": "P8vbArzBnIe0",
        "outputId": "6ca5240f-98dc-47c4-a43e-e78e57d50eaf"
      },
      "outputs": [
        {
          "name": "stdout",
          "output_type": "stream",
          "text": [
            "True\n",
            "True\n",
            "False\n"
          ]
        }
      ],
      "source": [
        "# # lc 291\n",
        "# Given a pattern and a string str, find if str follows the same pattern.\n",
        "\n",
        "# Here follow means a full match, such that there is a bijection between a letter in pattern and a non-empty substring in str.\n",
        "\n",
        "# Examples:\n",
        "\n",
        "# pattern = \"abab\", str = \"redblueredblue\" should return true. pattern = \"aaaa\", str = \"asdasdasdasd\" should return true. pattern = \"aabb\", str = \"xyzabcxzyabc\" should return false.\n",
        "def pattern(p, s) -> bool:\n",
        "    m, n = len(p), len(s)\n",
        "    if n < m:\n",
        "      return False\n",
        "\n",
        "    mapping = {}\n",
        "    occ = set()\n",
        "    ans = False\n",
        "\n",
        "    def dfs(i, j):\n",
        "        nonlocal ans\n",
        "        if i == m and j == n:\n",
        "            ans = True\n",
        "            return \n",
        "        if i == m or j == n:\n",
        "            return \n",
        "\n",
        "        c = p[i]\n",
        "        for k in range(j, n):\n",
        "            if c in mapping:\n",
        "                if s[j:k + 1] == mapping[c]:\n",
        "                    dfs(i + 1, k + 1)\n",
        "            else:\n",
        "                if s[j:k + 1] not in occ:\n",
        "                    mapping[c] = s[j:k + 1]\n",
        "                    occ.add(s[j:k + 1])\n",
        "                    dfs(i + 1, k + 1)\n",
        "                    mapping.pop(c)\n",
        "                    occ.remove(s[j:k + 1])\n",
        "    dfs(0, 0)\n",
        "    return ans\n",
        "\n",
        "print(pattern(\"abab\", \"redblueredblue\"))\n",
        "print(pattern(\"aaaa\", \"asdasdasdasd\"))\n",
        "print(pattern(\"aabb\", \"xyzabcxzyabc\"))"
      ]
    },
    {
      "cell_type": "code",
      "execution_count": null,
      "metadata": {
        "id": "l051fK6FnMuV"
      },
      "outputs": [],
      "source": []
    }
  ],
  "metadata": {
    "colab": {
      "name": "Copy of oa.ipynb",
      "provenance": []
    },
    "kernelspec": {
      "display_name": "Python 3",
      "name": "python3"
    },
    "language_info": {
      "name": "python"
    }
  },
  "nbformat": 4,
  "nbformat_minor": 0
}
